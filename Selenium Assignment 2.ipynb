{
 "cells": [
  {
   "cell_type": "markdown",
   "id": "e2a149bc-35ee-4893-895a-a204de083318",
   "metadata": {},
   "source": [
    "Q1: In this question you have to scrape data using the filters available on the webpage You have to use the location and\n",
    "salary filter.\n",
    "You have to scrape data for “Data Scientist” designation for first 10 job results.\n",
    "You have to scrape the job-title, job-location, company name, experience required.\n",
    "The location filter to be used is “Delhi/NCR”. The salary filter to be used is “3-6” lakhs\n",
    "The task will be done as shown in the below steps:\n",
    "1. first get the web page https://www.naukri.com/\n",
    "2. Enter “Data Scientist” in “Skill, Designations, and Companies” field.\n",
    "3. Then click the search button.\n",
    "4. Then apply the location filter and salary filter by checking the respective boxes\n",
    "5. Then scrape the data for the first 10 jobs results you get.\n",
    "6. Finally create a dataframe of the scraped data. "
   ]
  },
  {
   "cell_type": "code",
   "execution_count": 1,
   "id": "d04ed0ee-b451-431a-bff6-80b345bc1009",
   "metadata": {},
   "outputs": [
    {
     "name": "stdout",
     "output_type": "stream",
     "text": [
      "Requirement already satisfied: selenium in c:\\users\\ashu_\\anaconda3\\lib\\site-packages (4.24.0)\n",
      "Requirement already satisfied: urllib3<3,>=1.26 in c:\\users\\ashu_\\anaconda3\\lib\\site-packages (from urllib3[socks]<3,>=1.26->selenium) (2.0.7)\n",
      "Requirement already satisfied: trio~=0.17 in c:\\users\\ashu_\\anaconda3\\lib\\site-packages (from selenium) (0.26.2)\n",
      "Requirement already satisfied: trio-websocket~=0.9 in c:\\users\\ashu_\\anaconda3\\lib\\site-packages (from selenium) (0.11.1)\n",
      "Requirement already satisfied: certifi>=2021.10.8 in c:\\users\\ashu_\\anaconda3\\lib\\site-packages (from selenium) (2024.2.2)\n",
      "Requirement already satisfied: typing_extensions~=4.9 in c:\\users\\ashu_\\anaconda3\\lib\\site-packages (from selenium) (4.9.0)\n",
      "Requirement already satisfied: websocket-client~=1.8 in c:\\users\\ashu_\\anaconda3\\lib\\site-packages (from selenium) (1.8.0)\n",
      "Requirement already satisfied: attrs>=23.2.0 in c:\\users\\ashu_\\anaconda3\\lib\\site-packages (from trio~=0.17->selenium) (24.2.0)\n",
      "Requirement already satisfied: sortedcontainers in c:\\users\\ashu_\\anaconda3\\lib\\site-packages (from trio~=0.17->selenium) (2.4.0)\n",
      "Requirement already satisfied: idna in c:\\users\\ashu_\\anaconda3\\lib\\site-packages (from trio~=0.17->selenium) (3.4)\n",
      "Requirement already satisfied: outcome in c:\\users\\ashu_\\anaconda3\\lib\\site-packages (from trio~=0.17->selenium) (1.3.0.post0)\n",
      "Requirement already satisfied: sniffio>=1.3.0 in c:\\users\\ashu_\\anaconda3\\lib\\site-packages (from trio~=0.17->selenium) (1.3.0)\n",
      "Requirement already satisfied: cffi>=1.14 in c:\\users\\ashu_\\anaconda3\\lib\\site-packages (from trio~=0.17->selenium) (1.16.0)\n",
      "Requirement already satisfied: wsproto>=0.14 in c:\\users\\ashu_\\anaconda3\\lib\\site-packages (from trio-websocket~=0.9->selenium) (1.2.0)\n",
      "Requirement already satisfied: pysocks!=1.5.7,<2.0,>=1.5.6 in c:\\users\\ashu_\\anaconda3\\lib\\site-packages (from urllib3[socks]<3,>=1.26->selenium) (1.7.1)\n",
      "Requirement already satisfied: pycparser in c:\\users\\ashu_\\anaconda3\\lib\\site-packages (from cffi>=1.14->trio~=0.17->selenium) (2.21)\n",
      "Requirement already satisfied: h11<1,>=0.9.0 in c:\\users\\ashu_\\anaconda3\\lib\\site-packages (from wsproto>=0.14->trio-websocket~=0.9->selenium) (0.14.0)\n"
     ]
    }
   ],
   "source": [
    "!pip install selenium"
   ]
  },
  {
   "cell_type": "code",
   "execution_count": 2,
   "id": "fba72c5a-38ae-42d0-a0f4-9a5113eacee0",
   "metadata": {},
   "outputs": [],
   "source": [
    "import selenium\n",
    "import pandas as pd\n",
    "from selenium import webdriver\n",
    "import warnings\n",
    "warnings.filterwarnings('ignore')\n",
    "from selenium.webdriver.common.by import By\n",
    "import time"
   ]
  },
  {
   "cell_type": "code",
   "execution_count": 3,
   "id": "ece5a083-1cc4-48e8-bebd-7f8e995bc4e6",
   "metadata": {},
   "outputs": [],
   "source": [
    "driver = webdriver.Chrome()"
   ]
  },
  {
   "cell_type": "code",
   "execution_count": 4,
   "id": "80cbdb6f-6c94-4beb-be1d-0ebd1cf354d3",
   "metadata": {},
   "outputs": [],
   "source": [
    "driver.get(\" https://www.naukri.com/\")"
   ]
  },
  {
   "cell_type": "code",
   "execution_count": 5,
   "id": "080a827c-912a-430a-a48e-8a7159aec998",
   "metadata": {},
   "outputs": [],
   "source": [
    "designation = driver.find_element(By.CLASS_NAME,\"suggestor-input \")\n",
    "designation.send_keys('Data Scientist')"
   ]
  },
  {
   "cell_type": "code",
   "execution_count": 6,
   "id": "703db185-68e7-4cce-9303-2c2599220489",
   "metadata": {},
   "outputs": [],
   "source": [
    "location = driver.find_element(By.XPATH,\"/html/body/div[1]/div[7]/div/div/div[5]/div/div/div/div[1]/div/input\")\n",
    "location.send_keys('Delhi/NCR')"
   ]
  },
  {
   "cell_type": "code",
   "execution_count": 7,
   "id": "fd24aec6-992f-4787-ae82-1d5785090405",
   "metadata": {},
   "outputs": [],
   "source": [
    "search = driver.find_element(By.CLASS_NAME,\"qsbSubmit\")\n",
    "search.click()"
   ]
  },
  {
   "cell_type": "code",
   "execution_count": 8,
   "id": "989f3a6f-f765-44df-bf16-c053bfc39ac8",
   "metadata": {},
   "outputs": [],
   "source": [
    "search = driver.find_element(By.XPATH,\"/html/body/div/div/main/div[1]/div[1]/div/div/div[2]/div[4]/div[2]/div[2]/label/p\")\n",
    "search.click()"
   ]
  },
  {
   "cell_type": "code",
   "execution_count": 9,
   "id": "ab815b83-2c65-42d3-810c-e46bd662489f",
   "metadata": {},
   "outputs": [],
   "source": [
    "job_title=[]\n",
    "job_location=[]\n",
    "company_name=[]\n",
    "job_experiance=[]"
   ]
  },
  {
   "cell_type": "code",
   "execution_count": 10,
   "id": "1eedc711-a186-44a3-b4ac-ba807c830808",
   "metadata": {},
   "outputs": [],
   "source": [
    "title_tags=driver.find_elements(By.XPATH,'//a[@class=\"title \"]')\n",
    "for i in title_tags:\n",
    "    title=i.text\n",
    "    job_title.append(title)"
   ]
  },
  {
   "cell_type": "code",
   "execution_count": 11,
   "id": "c6e90dfb-bad1-40de-9243-cc43d62468c6",
   "metadata": {},
   "outputs": [],
   "source": [
    "location_tags=driver.find_elements(By.XPATH,'//span[@class=\"loc-wrap ver-line\"]')\n",
    "for i in location_tags:\n",
    "    location=i.text\n",
    "    job_location.append(location)"
   ]
  },
  {
   "cell_type": "code",
   "execution_count": 12,
   "id": "9de103c2-0cb2-4db6-8ee5-e420416f393f",
   "metadata": {},
   "outputs": [],
   "source": [
    "company_tags=driver.find_elements(By.XPATH,'//div[@class=\" row2\"]')\n",
    "for i in location_tags:\n",
    "    company=i.text\n",
    "    company_name.append(company)"
   ]
  },
  {
   "cell_type": "code",
   "execution_count": 13,
   "id": "bbb7f897-64da-4a75-858b-e354b1ea1cf4",
   "metadata": {},
   "outputs": [],
   "source": [
    "experiance_tags=driver.find_elements(By.XPATH,'//span[@class=\"exp-wrap\"]')\n",
    "for i in experiance_tags:\n",
    "    experiance=i.text\n",
    "    job_experiance.append(experiance)"
   ]
  },
  {
   "cell_type": "code",
   "execution_count": 14,
   "id": "1e57e1b5-1484-4520-a6af-d14f1438dc0c",
   "metadata": {},
   "outputs": [
    {
     "name": "stdout",
     "output_type": "stream",
     "text": [
      "25 25 25 25\n"
     ]
    }
   ],
   "source": [
    "print(len(job_title),len(job_location),len(company_name),len(job_experiance))"
   ]
  },
  {
   "cell_type": "code",
   "execution_count": 15,
   "id": "ffb6f21e-90cf-4cc3-8795-15ad9e6fe21b",
   "metadata": {},
   "outputs": [
    {
     "data": {
      "text/html": [
       "<div>\n",
       "<style scoped>\n",
       "    .dataframe tbody tr th:only-of-type {\n",
       "        vertical-align: middle;\n",
       "    }\n",
       "\n",
       "    .dataframe tbody tr th {\n",
       "        vertical-align: top;\n",
       "    }\n",
       "\n",
       "    .dataframe thead th {\n",
       "        text-align: right;\n",
       "    }\n",
       "</style>\n",
       "<table border=\"1\" class=\"dataframe\">\n",
       "  <thead>\n",
       "    <tr style=\"text-align: right;\">\n",
       "      <th></th>\n",
       "      <th>title</th>\n",
       "      <th>location</th>\n",
       "      <th>company</th>\n",
       "      <th>experiance</th>\n",
       "    </tr>\n",
       "  </thead>\n",
       "  <tbody>\n",
       "    <tr>\n",
       "      <th>0</th>\n",
       "      <td>Data Scientist</td>\n",
       "      <td>Kolkata, Mumbai, New Delhi, Hyderabad, Pune, C...</td>\n",
       "      <td>Kolkata, Mumbai, New Delhi, Hyderabad, Pune, C...</td>\n",
       "      <td>3-7 Yrs</td>\n",
       "    </tr>\n",
       "    <tr>\n",
       "      <th>1</th>\n",
       "      <td>Data Scientist (AI/ML)|| US Based MNC || Noida</td>\n",
       "      <td>Hybrid - Noida</td>\n",
       "      <td>Hybrid - Noida</td>\n",
       "      <td>3-5 Yrs</td>\n",
       "    </tr>\n",
       "    <tr>\n",
       "      <th>2</th>\n",
       "      <td>Data Scientist/Data Analyst - LLM</td>\n",
       "      <td>Kolkata, Mumbai, New Delhi, Hyderabad, Pune, C...</td>\n",
       "      <td>Kolkata, Mumbai, New Delhi, Hyderabad, Pune, C...</td>\n",
       "      <td>2-6 Yrs</td>\n",
       "    </tr>\n",
       "    <tr>\n",
       "      <th>3</th>\n",
       "      <td>Data Analyst</td>\n",
       "      <td>New Delhi, Gurgaon/Gurugram</td>\n",
       "      <td>New Delhi, Gurgaon/Gurugram</td>\n",
       "      <td>0-3 Yrs</td>\n",
       "    </tr>\n",
       "    <tr>\n",
       "      <th>4</th>\n",
       "      <td>Data Scientist</td>\n",
       "      <td></td>\n",
       "      <td></td>\n",
       "      <td>3-8 Yrs</td>\n",
       "    </tr>\n",
       "    <tr>\n",
       "      <th>5</th>\n",
       "      <td></td>\n",
       "      <td></td>\n",
       "      <td></td>\n",
       "      <td></td>\n",
       "    </tr>\n",
       "    <tr>\n",
       "      <th>6</th>\n",
       "      <td></td>\n",
       "      <td></td>\n",
       "      <td></td>\n",
       "      <td></td>\n",
       "    </tr>\n",
       "    <tr>\n",
       "      <th>7</th>\n",
       "      <td></td>\n",
       "      <td></td>\n",
       "      <td></td>\n",
       "      <td></td>\n",
       "    </tr>\n",
       "    <tr>\n",
       "      <th>8</th>\n",
       "      <td>Data Scientist</td>\n",
       "      <td>Gurugram</td>\n",
       "      <td>Gurugram</td>\n",
       "      <td>3-8 Yrs</td>\n",
       "    </tr>\n",
       "    <tr>\n",
       "      <th>9</th>\n",
       "      <td>Data Scientist</td>\n",
       "      <td>Ghaziabad</td>\n",
       "      <td>Ghaziabad</td>\n",
       "      <td>3-8 Yrs</td>\n",
       "    </tr>\n",
       "  </tbody>\n",
       "</table>\n",
       "</div>"
      ],
      "text/plain": [
       "                                            title  \\\n",
       "0                                  Data Scientist   \n",
       "1  Data Scientist (AI/ML)|| US Based MNC || Noida   \n",
       "2               Data Scientist/Data Analyst - LLM   \n",
       "3                                    Data Analyst   \n",
       "4                                  Data Scientist   \n",
       "5                                                   \n",
       "6                                                   \n",
       "7                                                   \n",
       "8                                  Data Scientist   \n",
       "9                                  Data Scientist   \n",
       "\n",
       "                                            location  \\\n",
       "0  Kolkata, Mumbai, New Delhi, Hyderabad, Pune, C...   \n",
       "1                                     Hybrid - Noida   \n",
       "2  Kolkata, Mumbai, New Delhi, Hyderabad, Pune, C...   \n",
       "3                        New Delhi, Gurgaon/Gurugram   \n",
       "4                                                      \n",
       "5                                                      \n",
       "6                                                      \n",
       "7                                                      \n",
       "8                                           Gurugram   \n",
       "9                                          Ghaziabad   \n",
       "\n",
       "                                             company experiance  \n",
       "0  Kolkata, Mumbai, New Delhi, Hyderabad, Pune, C...    3-7 Yrs  \n",
       "1                                     Hybrid - Noida    3-5 Yrs  \n",
       "2  Kolkata, Mumbai, New Delhi, Hyderabad, Pune, C...    2-6 Yrs  \n",
       "3                        New Delhi, Gurgaon/Gurugram    0-3 Yrs  \n",
       "4                                                       3-8 Yrs  \n",
       "5                                                                \n",
       "6                                                                \n",
       "7                                                                \n",
       "8                                           Gurugram    3-8 Yrs  \n",
       "9                                          Ghaziabad    3-8 Yrs  "
      ]
     },
     "execution_count": 15,
     "metadata": {},
     "output_type": "execute_result"
    }
   ],
   "source": [
    "import pandas as pd\n",
    "df=pd.DataFrame({'title':job_title,'location':job_location,'company':company_name,'experiance':job_experiance})\n",
    "df.head(10)"
   ]
  },
  {
   "cell_type": "markdown",
   "id": "30f7e592-5606-4f11-8e11-8b4f9952645b",
   "metadata": {},
   "source": [
    "Q2: Write a python program to scrape data for “Data Scientist” Job position in “Bangalore” location. You have to scrape the\n",
    "job-title, job-location, company_name, experience_required. You have to scrape first 10 jobs data.\n",
    "This task will be done in following steps:\n",
    "1. First get the webpage https://www.shine.com/\n",
    "2. Enter “Data Analyst” in “Job title, Skills” field and enter “Bangalore” in “enter the location” field.\n",
    "3. Then click the searchbutton.\n",
    "4. Then scrape the data for the first 10 jobs results you get.\n",
    "5. Finally create a dataframe of the scraped data. "
   ]
  },
  {
   "cell_type": "code",
   "execution_count": 16,
   "id": "fa06af98-7555-4d53-a849-3916c25d19b7",
   "metadata": {},
   "outputs": [
    {
     "name": "stdout",
     "output_type": "stream",
     "text": [
      "Requirement already satisfied: selenium in c:\\users\\ashu_\\anaconda3\\lib\\site-packages (4.24.0)\n",
      "Requirement already satisfied: urllib3<3,>=1.26 in c:\\users\\ashu_\\anaconda3\\lib\\site-packages (from urllib3[socks]<3,>=1.26->selenium) (2.0.7)\n",
      "Requirement already satisfied: trio~=0.17 in c:\\users\\ashu_\\anaconda3\\lib\\site-packages (from selenium) (0.26.2)\n",
      "Requirement already satisfied: trio-websocket~=0.9 in c:\\users\\ashu_\\anaconda3\\lib\\site-packages (from selenium) (0.11.1)\n",
      "Requirement already satisfied: certifi>=2021.10.8 in c:\\users\\ashu_\\anaconda3\\lib\\site-packages (from selenium) (2024.2.2)\n",
      "Requirement already satisfied: typing_extensions~=4.9 in c:\\users\\ashu_\\anaconda3\\lib\\site-packages (from selenium) (4.9.0)\n",
      "Requirement already satisfied: websocket-client~=1.8 in c:\\users\\ashu_\\anaconda3\\lib\\site-packages (from selenium) (1.8.0)\n",
      "Requirement already satisfied: attrs>=23.2.0 in c:\\users\\ashu_\\anaconda3\\lib\\site-packages (from trio~=0.17->selenium) (24.2.0)\n",
      "Requirement already satisfied: sortedcontainers in c:\\users\\ashu_\\anaconda3\\lib\\site-packages (from trio~=0.17->selenium) (2.4.0)\n",
      "Requirement already satisfied: idna in c:\\users\\ashu_\\anaconda3\\lib\\site-packages (from trio~=0.17->selenium) (3.4)\n",
      "Requirement already satisfied: outcome in c:\\users\\ashu_\\anaconda3\\lib\\site-packages (from trio~=0.17->selenium) (1.3.0.post0)\n",
      "Requirement already satisfied: sniffio>=1.3.0 in c:\\users\\ashu_\\anaconda3\\lib\\site-packages (from trio~=0.17->selenium) (1.3.0)\n",
      "Requirement already satisfied: cffi>=1.14 in c:\\users\\ashu_\\anaconda3\\lib\\site-packages (from trio~=0.17->selenium) (1.16.0)\n",
      "Requirement already satisfied: wsproto>=0.14 in c:\\users\\ashu_\\anaconda3\\lib\\site-packages (from trio-websocket~=0.9->selenium) (1.2.0)\n",
      "Requirement already satisfied: pysocks!=1.5.7,<2.0,>=1.5.6 in c:\\users\\ashu_\\anaconda3\\lib\\site-packages (from urllib3[socks]<3,>=1.26->selenium) (1.7.1)\n",
      "Requirement already satisfied: pycparser in c:\\users\\ashu_\\anaconda3\\lib\\site-packages (from cffi>=1.14->trio~=0.17->selenium) (2.21)\n",
      "Requirement already satisfied: h11<1,>=0.9.0 in c:\\users\\ashu_\\anaconda3\\lib\\site-packages (from wsproto>=0.14->trio-websocket~=0.9->selenium) (0.14.0)\n"
     ]
    }
   ],
   "source": [
    "!pip install selenium"
   ]
  },
  {
   "cell_type": "code",
   "execution_count": 17,
   "id": "7c522fa7-b2ff-44c2-9d4d-c0e5395d5a88",
   "metadata": {},
   "outputs": [],
   "source": [
    "import selenium\n",
    "import pandas as pd\n",
    "from selenium import webdriver\n",
    "import warnings\n",
    "warnings.filterwarnings('ignore')\n",
    "from selenium.webdriver.common.by import By\n",
    "import time"
   ]
  },
  {
   "cell_type": "code",
   "execution_count": 18,
   "id": "60416423-0e36-4064-8ab3-c297743759ef",
   "metadata": {},
   "outputs": [],
   "source": [
    "driver = webdriver.Chrome()"
   ]
  },
  {
   "cell_type": "code",
   "execution_count": 19,
   "id": "2186db95-7dd9-4e3b-b7fc-18a6f736a44a",
   "metadata": {},
   "outputs": [],
   "source": [
    "driver.get('https://www.shine.com/')"
   ]
  },
  {
   "cell_type": "code",
   "execution_count": 20,
   "id": "269181e6-2a0c-4ea6-93c2-5cf6eed5b857",
   "metadata": {},
   "outputs": [],
   "source": [
    "designation = driver.find_element(By.CLASS_NAME,\"form-control  \")\n",
    "designation.send_keys('Data Analyst')"
   ]
  },
  {
   "cell_type": "code",
   "execution_count": 21,
   "id": "b1c907ec-cb42-4630-a125-7c0add725793",
   "metadata": {},
   "outputs": [],
   "source": [
    "location = driver.find_element(By.XPATH,'/html/body/div/div[4]/div/div[2]/div[2]/div/form/div/div[1]/ul/li[2]/div/input')\n",
    "location.send_keys('Bangalore')"
   ]
  },
  {
   "cell_type": "code",
   "execution_count": 22,
   "id": "dac4f6ad-3bd1-4f66-a73c-da5cfe006fe6",
   "metadata": {},
   "outputs": [],
   "source": [
    "search = driver.find_element(By.CLASS_NAME,\"searchForm_btnWrap_advance__VYBHN\")\n",
    "search.click()"
   ]
  },
  {
   "cell_type": "code",
   "execution_count": 23,
   "id": "98553eb0-cc4d-4d73-a9b6-c895ac448c0c",
   "metadata": {},
   "outputs": [],
   "source": [
    "job_title=[]\n",
    "job_location=[]\n",
    "company_name=[]"
   ]
  },
  {
   "cell_type": "code",
   "execution_count": 24,
   "id": "ced8dea6-14cf-40f6-aad0-25f28478dcf0",
   "metadata": {},
   "outputs": [],
   "source": [
    "title_tags=driver.find_elements(By.XPATH,'//strong[@class=\"jobCard_pReplaceH2__xWmHg\"]')\n",
    "for i in title_tags:\n",
    "    title=i.text\n",
    "    job_title.append(title)"
   ]
  },
  {
   "cell_type": "code",
   "execution_count": 25,
   "id": "a5ae087e-20d5-470b-8475-b2170819c60e",
   "metadata": {},
   "outputs": [],
   "source": [
    "location_tags=driver.find_elements(By.XPATH,'//div[@class=\"jobCard_jobCard_lists__fdnsc\"]')\n",
    "for i in location_tags:\n",
    "    location=i.text\n",
    "    job_location.append(location)"
   ]
  },
  {
   "cell_type": "code",
   "execution_count": 26,
   "id": "2067eda5-8e01-431a-b185-94f29f8edc46",
   "metadata": {},
   "outputs": [],
   "source": [
    "company_tags=driver.find_elements(By.XPATH,'//div[@class=\"jobCard_jobCard_cName__mYnow\"]')\n",
    "for i in company_tags:\n",
    "    company=i.text\n",
    "    company_name.append(company)"
   ]
  },
  {
   "cell_type": "code",
   "execution_count": 27,
   "id": "ff49ade8-f4e0-4b17-b92d-b8b797e6eeb3",
   "metadata": {},
   "outputs": [
    {
     "name": "stdout",
     "output_type": "stream",
     "text": [
      "20 20 20\n"
     ]
    }
   ],
   "source": [
    "print(len(job_title),len(job_location),len(company_name))"
   ]
  },
  {
   "cell_type": "code",
   "execution_count": 28,
   "id": "a144d307-2c82-43d5-89e3-fab915366b78",
   "metadata": {},
   "outputs": [
    {
     "data": {
      "text/html": [
       "<div>\n",
       "<style scoped>\n",
       "    .dataframe tbody tr th:only-of-type {\n",
       "        vertical-align: middle;\n",
       "    }\n",
       "\n",
       "    .dataframe tbody tr th {\n",
       "        vertical-align: top;\n",
       "    }\n",
       "\n",
       "    .dataframe thead th {\n",
       "        text-align: right;\n",
       "    }\n",
       "</style>\n",
       "<table border=\"1\" class=\"dataframe\">\n",
       "  <thead>\n",
       "    <tr style=\"text-align: right;\">\n",
       "      <th></th>\n",
       "      <th>Title</th>\n",
       "      <th>Location</th>\n",
       "      <th>Company</th>\n",
       "    </tr>\n",
       "  </thead>\n",
       "  <tbody>\n",
       "    <tr>\n",
       "      <th>0</th>\n",
       "      <td>Data Analyst , Senior Data Analyst , Data Anal...</td>\n",
       "      <td>Bangalore\\n+8\\n0 to 4 Yrs\\n10 Positions</td>\n",
       "      <td>appsoft solutions</td>\n",
       "    </tr>\n",
       "    <tr>\n",
       "      <th>1</th>\n",
       "      <td>Data Analyst</td>\n",
       "      <td>Bangalore\\n+4\\n0 to 4 Yrs\\n10 Positions</td>\n",
       "      <td>aryan technology</td>\n",
       "    </tr>\n",
       "    <tr>\n",
       "      <th>2</th>\n",
       "      <td>Risk Data Analyst (Senior Quantitative Analyst)</td>\n",
       "      <td>Bangalore\\n+1\\n4 to 9 Yrs</td>\n",
       "      <td>locus enterprises</td>\n",
       "    </tr>\n",
       "    <tr>\n",
       "      <th>3</th>\n",
       "      <td>Healthcare Data Analyst</td>\n",
       "      <td>Bangalore\\n+8\\n8 to 13 Yrs\\n99 Positions</td>\n",
       "      <td>spento papers (india) llp</td>\n",
       "    </tr>\n",
       "    <tr>\n",
       "      <th>4</th>\n",
       "      <td>Senior Data Analyst</td>\n",
       "      <td>Bangalore\\n+8\\n2 to 7 Yrs\\n2 Positions</td>\n",
       "      <td>gallagher and mohan private limited</td>\n",
       "    </tr>\n",
       "    <tr>\n",
       "      <th>5</th>\n",
       "      <td>Urgent Hiring For Data Analyst</td>\n",
       "      <td>Bangalore\\n+2\\n0 to 4 Yrs\\n3 Positions</td>\n",
       "      <td>diraa hr services hiring for diraa ...</td>\n",
       "    </tr>\n",
       "    <tr>\n",
       "      <th>6</th>\n",
       "      <td>Data Catalog with Data Goverance</td>\n",
       "      <td>Bangalore\\n+8\\n6 to 11 Yrs\\n10 Positions</td>\n",
       "      <td>ltimindtree limited</td>\n",
       "    </tr>\n",
       "    <tr>\n",
       "      <th>7</th>\n",
       "      <td>Data Governance Analyst</td>\n",
       "      <td>Bangalore\\n5 to 8 Yrs\\n21 Positions</td>\n",
       "      <td>white horse manpower consultancy (p...</td>\n",
       "    </tr>\n",
       "    <tr>\n",
       "      <th>8</th>\n",
       "      <td>Healthcare Analyst</td>\n",
       "      <td>Bangalore\\n+7\\n0 to 4 Yrs\\n10 Positions</td>\n",
       "      <td>techno endura</td>\n",
       "    </tr>\n",
       "    <tr>\n",
       "      <th>9</th>\n",
       "      <td>Data Science Analytics</td>\n",
       "      <td>Bangalore\\n+7\\n5 to 8 Yrs</td>\n",
       "      <td>mackenzie modern it solutions priva...</td>\n",
       "    </tr>\n",
       "  </tbody>\n",
       "</table>\n",
       "</div>"
      ],
      "text/plain": [
       "                                               Title  \\\n",
       "0  Data Analyst , Senior Data Analyst , Data Anal...   \n",
       "1                                       Data Analyst   \n",
       "2    Risk Data Analyst (Senior Quantitative Analyst)   \n",
       "3                            Healthcare Data Analyst   \n",
       "4                                Senior Data Analyst   \n",
       "5                     Urgent Hiring For Data Analyst   \n",
       "6                   Data Catalog with Data Goverance   \n",
       "7                            Data Governance Analyst   \n",
       "8                                 Healthcare Analyst   \n",
       "9                             Data Science Analytics   \n",
       "\n",
       "                                   Location  \\\n",
       "0   Bangalore\\n+8\\n0 to 4 Yrs\\n10 Positions   \n",
       "1   Bangalore\\n+4\\n0 to 4 Yrs\\n10 Positions   \n",
       "2                 Bangalore\\n+1\\n4 to 9 Yrs   \n",
       "3  Bangalore\\n+8\\n8 to 13 Yrs\\n99 Positions   \n",
       "4    Bangalore\\n+8\\n2 to 7 Yrs\\n2 Positions   \n",
       "5    Bangalore\\n+2\\n0 to 4 Yrs\\n3 Positions   \n",
       "6  Bangalore\\n+8\\n6 to 11 Yrs\\n10 Positions   \n",
       "7       Bangalore\\n5 to 8 Yrs\\n21 Positions   \n",
       "8   Bangalore\\n+7\\n0 to 4 Yrs\\n10 Positions   \n",
       "9                 Bangalore\\n+7\\n5 to 8 Yrs   \n",
       "\n",
       "                                  Company  \n",
       "0                       appsoft solutions  \n",
       "1                        aryan technology  \n",
       "2                       locus enterprises  \n",
       "3               spento papers (india) llp  \n",
       "4     gallagher and mohan private limited  \n",
       "5  diraa hr services hiring for diraa ...  \n",
       "6                     ltimindtree limited  \n",
       "7  white horse manpower consultancy (p...  \n",
       "8                           techno endura  \n",
       "9  mackenzie modern it solutions priva...  "
      ]
     },
     "execution_count": 28,
     "metadata": {},
     "output_type": "execute_result"
    }
   ],
   "source": [
    "import pandas as pd\n",
    "df=pd.DataFrame({'Title':job_title,'Location':job_location,'Company':company_name})\n",
    "df.head(10)"
   ]
  },
  {
   "cell_type": "markdown",
   "id": "7b2299eb-a04c-450c-9d4d-d46dc92727f2",
   "metadata": {},
   "source": [
    "Q3: Scrape 100 reviews data from flipkart.com for iphone11 phone. You have to go the link:\n",
    "https://www.flipkart.com/apple-iphone-11-black-64-gb/productreviews/itm4e5041ba101fd?pid=MOBFWQ6BXGJCEYNY&lid=LSTMOBFWQ6BXGJCEYNYZXSHRJ&marketplace=F\n",
    "LIPKART\n",
    "As shown in the above page you have to scrape the tick marked attributes. These are:\n",
    "1. Rating\n",
    "2. Review summary\n",
    "3. Full review\n",
    "4. You have to scrape this data for first 100reviews."
   ]
  },
  {
   "cell_type": "code",
   "execution_count": 29,
   "id": "52264f52-fb1d-45ea-a3b0-0f8cc9ad9505",
   "metadata": {},
   "outputs": [
    {
     "name": "stdout",
     "output_type": "stream",
     "text": [
      "Requirement already satisfied: selenium in c:\\users\\ashu_\\anaconda3\\lib\\site-packages (4.24.0)\n",
      "Requirement already satisfied: urllib3<3,>=1.26 in c:\\users\\ashu_\\anaconda3\\lib\\site-packages (from urllib3[socks]<3,>=1.26->selenium) (2.0.7)\n",
      "Requirement already satisfied: trio~=0.17 in c:\\users\\ashu_\\anaconda3\\lib\\site-packages (from selenium) (0.26.2)\n",
      "Requirement already satisfied: trio-websocket~=0.9 in c:\\users\\ashu_\\anaconda3\\lib\\site-packages (from selenium) (0.11.1)\n",
      "Requirement already satisfied: certifi>=2021.10.8 in c:\\users\\ashu_\\anaconda3\\lib\\site-packages (from selenium) (2024.2.2)\n",
      "Requirement already satisfied: typing_extensions~=4.9 in c:\\users\\ashu_\\anaconda3\\lib\\site-packages (from selenium) (4.9.0)\n",
      "Requirement already satisfied: websocket-client~=1.8 in c:\\users\\ashu_\\anaconda3\\lib\\site-packages (from selenium) (1.8.0)\n",
      "Requirement already satisfied: attrs>=23.2.0 in c:\\users\\ashu_\\anaconda3\\lib\\site-packages (from trio~=0.17->selenium) (24.2.0)\n",
      "Requirement already satisfied: sortedcontainers in c:\\users\\ashu_\\anaconda3\\lib\\site-packages (from trio~=0.17->selenium) (2.4.0)\n",
      "Requirement already satisfied: idna in c:\\users\\ashu_\\anaconda3\\lib\\site-packages (from trio~=0.17->selenium) (3.4)\n",
      "Requirement already satisfied: outcome in c:\\users\\ashu_\\anaconda3\\lib\\site-packages (from trio~=0.17->selenium) (1.3.0.post0)\n",
      "Requirement already satisfied: sniffio>=1.3.0 in c:\\users\\ashu_\\anaconda3\\lib\\site-packages (from trio~=0.17->selenium) (1.3.0)\n",
      "Requirement already satisfied: cffi>=1.14 in c:\\users\\ashu_\\anaconda3\\lib\\site-packages (from trio~=0.17->selenium) (1.16.0)\n",
      "Requirement already satisfied: wsproto>=0.14 in c:\\users\\ashu_\\anaconda3\\lib\\site-packages (from trio-websocket~=0.9->selenium) (1.2.0)\n",
      "Requirement already satisfied: pysocks!=1.5.7,<2.0,>=1.5.6 in c:\\users\\ashu_\\anaconda3\\lib\\site-packages (from urllib3[socks]<3,>=1.26->selenium) (1.7.1)\n",
      "Requirement already satisfied: pycparser in c:\\users\\ashu_\\anaconda3\\lib\\site-packages (from cffi>=1.14->trio~=0.17->selenium) (2.21)\n",
      "Requirement already satisfied: h11<1,>=0.9.0 in c:\\users\\ashu_\\anaconda3\\lib\\site-packages (from wsproto>=0.14->trio-websocket~=0.9->selenium) (0.14.0)\n"
     ]
    }
   ],
   "source": [
    "!pip install selenium"
   ]
  },
  {
   "cell_type": "code",
   "execution_count": 30,
   "id": "76a5c4e2-61d1-4e79-9e64-6a304ee84631",
   "metadata": {},
   "outputs": [],
   "source": [
    "import selenium\n",
    "import pandas as pd\n",
    "from selenium import webdriver\n",
    "import warnings\n",
    "warnings.filterwarnings('ignore')\n",
    "from selenium.webdriver.common.by import By\n",
    "import time"
   ]
  },
  {
   "cell_type": "code",
   "execution_count": 31,
   "id": "ad7e9831-5376-45fe-84bb-f5938e4ff52f",
   "metadata": {},
   "outputs": [],
   "source": [
    "driver=webdriver.Chrome()"
   ]
  },
  {
   "cell_type": "code",
   "execution_count": 32,
   "id": "417acb09-70d0-4f02-baa5-a4d6798a6979",
   "metadata": {},
   "outputs": [],
   "source": [
    "driver.get(\"https://www.flipkart.com/apple-iphone-11-black-64-gb/product-reviews/itm4e5041ba101fd?pid=MOBFWQ6BXGJCEYNY&lid=LSTMOBFWQ6BXGJCEYNYZXSHRJ&marketplace=FLIPKART\")"
   ]
  },
  {
   "cell_type": "code",
   "execution_count": 33,
   "id": "128d2b3b-bca7-46c5-8b3d-70264c5529b4",
   "metadata": {},
   "outputs": [],
   "source": [
    "Phone_Rating=[]\n",
    "Review_Summery=[]\n",
    "Full_Review =[]"
   ]
  },
  {
   "cell_type": "code",
   "execution_count": 34,
   "id": "ab61d4d9-3d10-4498-94cb-774881c95972",
   "metadata": {},
   "outputs": [],
   "source": [
    "Rating_tags=driver.find_elements(By.XPATH,'//div[@class=\"XQDdHH Ga3i8K\"]')\n",
    "for i in Rating_tags:\n",
    "    Rating=i.text\n",
    "    Phone_Rating.append(Rating)"
   ]
  },
  {
   "cell_type": "code",
   "execution_count": 35,
   "id": "4284db45-3bec-4f03-9f29-0da59f55c33b",
   "metadata": {},
   "outputs": [],
   "source": [
    "Review_tags=driver.find_elements(By.XPATH,'//p[@class=\"z9E0IG\"]')\n",
    "for i in Review_tags:\n",
    "    Review=i.text\n",
    "    Review_Summery.append(Review)"
   ]
  },
  {
   "cell_type": "code",
   "execution_count": 36,
   "id": "d4bcfdf7-4629-49f1-87bd-d0f70b57a016",
   "metadata": {},
   "outputs": [],
   "source": [
    "Full_tags=driver.find_elements(By.XPATH,'//div[@class=\"ZmyHeo\"]')\n",
    "for i in Full_tags:\n",
    "    Full=i.text\n",
    "    Full_Review.append(Full)"
   ]
  },
  {
   "cell_type": "code",
   "execution_count": 37,
   "id": "7a2059d1-21b1-4451-abb8-59dacb072c87",
   "metadata": {},
   "outputs": [],
   "source": [
    "search=driver.find_element(By.XPATH,\"/html/body/div/div/div[3]/div/div/div[2]/div[13]/div/div/nav/a[11]\")\n",
    "search.click()"
   ]
  },
  {
   "cell_type": "code",
   "execution_count": 38,
   "id": "183f52ee-aae5-4cb4-8e24-85881ac6a863",
   "metadata": {},
   "outputs": [],
   "source": [
    "Rating_tags=driver.find_elements(By.XPATH,'//div[@class=\"XQDdHH Ga3i8K\"]')\n",
    "for i in Rating_tags:\n",
    "    Rating=i.text\n",
    "    Phone_Rating.append(Rating)\n",
    "\n",
    "Review_tags=driver.find_elements(By.XPATH,'//p[@class=\"z9E0IG\"]')\n",
    "for i in Review_tags:\n",
    "    Review=i.text\n",
    "    Review_Summery.append(Review)\n",
    "\n",
    "Full_tags=driver.find_elements(By.XPATH,'//div[@class=\"ZmyHeo\"]')\n",
    "for i in Full_tags:\n",
    "    Full=i.text\n",
    "    Full_Review.append(Full)"
   ]
  },
  {
   "cell_type": "code",
   "execution_count": 39,
   "id": "28208f7a-192a-4d1e-90f2-b0302b1b09d3",
   "metadata": {},
   "outputs": [],
   "source": [
    "search=driver.find_element(By.XPATH,\"/html/body/div/div/div[3]/div/div/div[2]/div[13]/div/div/nav/a[11]\")\n",
    "search.click()"
   ]
  },
  {
   "cell_type": "code",
   "execution_count": 40,
   "id": "9a5ea55f-7711-433c-9727-cd8c3c4795f9",
   "metadata": {},
   "outputs": [],
   "source": [
    "Rating_tags=driver.find_elements(By.XPATH,'//div[@class=\"XQDdHH Ga3i8K\"]')\n",
    "for i in Rating_tags:\n",
    "    Rating=i.text\n",
    "    Phone_Rating.append(Rating)\n",
    "\n",
    "Review_tags=driver.find_elements(By.XPATH,'//p[@class=\"z9E0IG\"]')\n",
    "for i in Review_tags:\n",
    "    Review=i.text\n",
    "    Review_Summery.append(Review)\n",
    "\n",
    "Full_tags=driver.find_elements(By.XPATH,'//div[@class=\"ZmyHeo\"]')\n",
    "for i in Full_tags:\n",
    "    Full=i.text\n",
    "    Full_Review.append(Full)"
   ]
  },
  {
   "cell_type": "code",
   "execution_count": 41,
   "id": "bd82f93e-a9b9-4e24-b21a-84e4ca4d3f34",
   "metadata": {},
   "outputs": [],
   "source": [
    "search=driver.find_element(By.XPATH,\"/html/body/div/div/div[3]/div/div/div[2]/div[13]/div/div/nav/a[11]\")\n",
    "search.click()"
   ]
  },
  {
   "cell_type": "code",
   "execution_count": 42,
   "id": "e884235f-e976-4795-9b3b-83dfbb347b56",
   "metadata": {},
   "outputs": [],
   "source": [
    "Rating_tags=driver.find_elements(By.XPATH,'//div[@class=\"XQDdHH Ga3i8K\"]')\n",
    "for i in Rating_tags:\n",
    "    Rating=i.text\n",
    "    Phone_Rating.append(Rating)\n",
    "\n",
    "Review_tags=driver.find_elements(By.XPATH,'//p[@class=\"z9E0IG\"]')\n",
    "for i in Review_tags:\n",
    "    Review=i.text\n",
    "    Review_Summery.append(Review)\n",
    "\n",
    "Full_tags=driver.find_elements(By.XPATH,'//div[@class=\"ZmyHeo\"]')\n",
    "for i in Full_tags:\n",
    "    Full=i.text\n",
    "    Full_Review.append(Full)"
   ]
  },
  {
   "cell_type": "code",
   "execution_count": 43,
   "id": "0d82f051-9872-408e-90ac-6b92c9d01887",
   "metadata": {},
   "outputs": [],
   "source": [
    "search=driver.find_element(By.XPATH,\"/html/body/div/div/div[3]/div/div/div[2]/div[5]/div/div/nav/a[12]\")\n",
    "search.click()"
   ]
  },
  {
   "cell_type": "code",
   "execution_count": 44,
   "id": "4adea704-54b7-4081-a413-030d4debdd76",
   "metadata": {},
   "outputs": [],
   "source": [
    "Rating_tags=driver.find_elements(By.XPATH,'//div[@class=\"XQDdHH Ga3i8K\"]')\n",
    "for i in Rating_tags:\n",
    "    Rating=i.text\n",
    "    Phone_Rating.append(Rating)\n",
    "\n",
    "Review_tags=driver.find_elements(By.XPATH,'//p[@class=\"z9E0IG\"]')\n",
    "for i in Review_tags:\n",
    "    Review=i.text\n",
    "    Review_Summery.append(Review)\n",
    "\n",
    "Full_tags=driver.find_elements(By.XPATH,'//div[@class=\"ZmyHeo\"]')\n",
    "for i in Full_tags:\n",
    "    Full=i.text\n",
    "    Full_Review.append(Full)"
   ]
  },
  {
   "cell_type": "code",
   "execution_count": 45,
   "id": "5aaff77b-cd33-4b7f-9174-15a1f810894f",
   "metadata": {},
   "outputs": [],
   "source": [
    "search=driver.find_element(By.XPATH,\"/html/body/div/div/div[3]/div/div/div[2]/div[7]/div/div/nav/a[12]\")\n",
    "search.click()"
   ]
  },
  {
   "cell_type": "code",
   "execution_count": 46,
   "id": "e62e30ab-ceaf-4709-b110-b3db8ba3766b",
   "metadata": {},
   "outputs": [],
   "source": [
    "Rating_tags=driver.find_elements(By.XPATH,'//div[@class=\"XQDdHH Ga3i8K\"]')\n",
    "for i in Rating_tags:\n",
    "    Rating=i.text\n",
    "    Phone_Rating.append(Rating)\n",
    "\n",
    "Review_tags=driver.find_elements(By.XPATH,'//p[@class=\"z9E0IG\"]')\n",
    "for i in Review_tags:\n",
    "    Review=i.text\n",
    "    Review_Summery.append(Review)\n",
    "\n",
    "Full_tags=driver.find_elements(By.XPATH,'//div[@class=\"ZmyHeo\"]')\n",
    "for i in Full_tags:\n",
    "    Full=i.text\n",
    "    Full_Review.append(Full)"
   ]
  },
  {
   "cell_type": "code",
   "execution_count": 47,
   "id": "4c953d50-dcf6-4bd3-b26e-fe636b22741f",
   "metadata": {},
   "outputs": [],
   "source": [
    "search=driver.find_element(By.XPATH,\"/html/body/div/div/div[3]/div/div/div[2]/div[5]/div/div/nav/a[12]\")\n",
    "search.click()"
   ]
  },
  {
   "cell_type": "code",
   "execution_count": 48,
   "id": "f1a0bf4f-c2ba-44e4-819f-8363e7661526",
   "metadata": {},
   "outputs": [],
   "source": [
    "Rating_tags=driver.find_elements(By.XPATH,'//div[@class=\"XQDdHH Ga3i8K\"]')\n",
    "for i in Rating_tags:\n",
    "    Rating=i.text\n",
    "    Phone_Rating.append(Rating)\n",
    "\n",
    "Review_tags=driver.find_elements(By.XPATH,'//p[@class=\"z9E0IG\"]')\n",
    "for i in Review_tags:\n",
    "    Review=i.text\n",
    "    Review_Summery.append(Review)\n",
    "\n",
    "Full_tags=driver.find_elements(By.XPATH,'//div[@class=\"ZmyHeo\"]')\n",
    "for i in Full_tags:\n",
    "    Full=i.text\n",
    "    Full_Review.append(Full)"
   ]
  },
  {
   "cell_type": "code",
   "execution_count": 49,
   "id": "099b9b92-6611-4343-911b-6d54723816e6",
   "metadata": {},
   "outputs": [],
   "source": [
    "search=driver.find_element(By.XPATH,\"/html/body/div/div/div[3]/div/div/div[2]/div[6]/div/div/nav/a[12]\")\n",
    "search.click()"
   ]
  },
  {
   "cell_type": "code",
   "execution_count": 50,
   "id": "29583da1-c8c5-49d7-8436-14e18c82300e",
   "metadata": {},
   "outputs": [],
   "source": [
    "Rating_tags=driver.find_elements(By.XPATH,'//div[@class=\"XQDdHH Ga3i8K\"]')\n",
    "for i in Rating_tags:\n",
    "    Rating=i.text\n",
    "    Phone_Rating.append(Rating)\n",
    "\n",
    "Review_tags=driver.find_elements(By.XPATH,'//p[@class=\"z9E0IG\"]')\n",
    "for i in Review_tags:\n",
    "    Review=i.text\n",
    "    Review_Summery.append(Review)\n",
    "\n",
    "Full_tags=driver.find_elements(By.XPATH,'//div[@class=\"ZmyHeo\"]')\n",
    "for i in Full_tags:\n",
    "    Full=i.text\n",
    "    Full_Review.append(Full)"
   ]
  },
  {
   "cell_type": "code",
   "execution_count": 51,
   "id": "9988534d-fb28-4c6c-adb2-e5ef255d48d0",
   "metadata": {},
   "outputs": [],
   "source": [
    "search=driver.find_element(By.XPATH,\"/html/body/div/div/div[3]/div/div/div[2]/div[6]/div/div/nav/a[12]\")\n",
    "search.click()"
   ]
  },
  {
   "cell_type": "code",
   "execution_count": 52,
   "id": "5c3c9dfe-87cc-4ab8-9d6b-57c0b14e784c",
   "metadata": {},
   "outputs": [],
   "source": [
    "Rating_tags=driver.find_elements(By.XPATH,'//div[@class=\"XQDdHH Ga3i8K\"]')\n",
    "for i in Rating_tags:\n",
    "    Rating=i.text\n",
    "    Phone_Rating.append(Rating)\n",
    "\n",
    "Review_tags=driver.find_elements(By.XPATH,'//p[@class=\"z9E0IG\"]')\n",
    "for i in Review_tags:\n",
    "    Review=i.text\n",
    "    Review_Summery.append(Review)\n",
    "\n",
    "Full_tags=driver.find_elements(By.XPATH,'//div[@class=\"ZmyHeo\"]')\n",
    "for i in Full_tags:\n",
    "    Full=i.text\n",
    "    Full_Review.append(Full)"
   ]
  },
  {
   "cell_type": "code",
   "execution_count": 53,
   "id": "10488c9d-f1fd-4456-b902-79e0ac901222",
   "metadata": {},
   "outputs": [],
   "source": [
    "search=driver.find_element(By.XPATH,\"/html/body/div/div/div[3]/div/div/div[2]/div[3]/div/div/nav/a[12]\")\n",
    "search.click()"
   ]
  },
  {
   "cell_type": "code",
   "execution_count": 54,
   "id": "abe0312f-159b-4777-9e65-9c0d556e26e7",
   "metadata": {},
   "outputs": [],
   "source": [
    "Rating_tags=driver.find_elements(By.XPATH,'//div[@class=\"XQDdHH Ga3i8K\"]')\n",
    "for i in Rating_tags:\n",
    "    Rating=i.text\n",
    "    Phone_Rating.append(Rating)\n",
    "\n",
    "Review_tags=driver.find_elements(By.XPATH,'//p[@class=\"z9E0IG\"]')\n",
    "for i in Review_tags:\n",
    "    Review=i.text\n",
    "    Review_Summery.append(Review)\n",
    "\n",
    "Full_tags=driver.find_elements(By.XPATH,'//div[@class=\"ZmyHeo\"]')\n",
    "for i in Full_tags:\n",
    "    Full=i.text\n",
    "    Full_Review.append(Full)"
   ]
  },
  {
   "cell_type": "code",
   "execution_count": 55,
   "id": "19f9cf23-0b88-41fb-9369-8f955e44428c",
   "metadata": {},
   "outputs": [
    {
     "name": "stdout",
     "output_type": "stream",
     "text": [
      "44 44 44\n"
     ]
    }
   ],
   "source": [
    "print(len(Phone_Rating),len(Review_Summery),len(Full_Review))"
   ]
  },
  {
   "cell_type": "code",
   "execution_count": 56,
   "id": "003bda60-3d5a-47ff-903f-80172be30690",
   "metadata": {},
   "outputs": [
    {
     "data": {
      "text/html": [
       "<div>\n",
       "<style scoped>\n",
       "    .dataframe tbody tr th:only-of-type {\n",
       "        vertical-align: middle;\n",
       "    }\n",
       "\n",
       "    .dataframe tbody tr th {\n",
       "        vertical-align: top;\n",
       "    }\n",
       "\n",
       "    .dataframe thead th {\n",
       "        text-align: right;\n",
       "    }\n",
       "</style>\n",
       "<table border=\"1\" class=\"dataframe\">\n",
       "  <thead>\n",
       "    <tr style=\"text-align: right;\">\n",
       "      <th></th>\n",
       "      <th>Rating</th>\n",
       "      <th>Review</th>\n",
       "      <th>Full</th>\n",
       "    </tr>\n",
       "  </thead>\n",
       "  <tbody>\n",
       "    <tr>\n",
       "      <th>0</th>\n",
       "      <td>5</td>\n",
       "      <td>Terrific</td>\n",
       "      <td>Very very good</td>\n",
       "    </tr>\n",
       "    <tr>\n",
       "      <th>1</th>\n",
       "      <td>5</td>\n",
       "      <td>Best in the market!</td>\n",
       "      <td>Good Camera</td>\n",
       "    </tr>\n",
       "    <tr>\n",
       "      <th>2</th>\n",
       "      <td>5</td>\n",
       "      <td>Classy product</td>\n",
       "      <td>Camera is awesome\\nBest battery backup\\nA perf...</td>\n",
       "    </tr>\n",
       "    <tr>\n",
       "      <th>3</th>\n",
       "      <td>5</td>\n",
       "      <td>Worth every penny</td>\n",
       "      <td>Feeling awesome after getting the delivery of ...</td>\n",
       "    </tr>\n",
       "    <tr>\n",
       "      <th>4</th>\n",
       "      <td>5</td>\n",
       "      <td>Terrific purchase</td>\n",
       "      <td>Value for money 😍</td>\n",
       "    </tr>\n",
       "    <tr>\n",
       "      <th>5</th>\n",
       "      <td>5</td>\n",
       "      <td>Perfect product!</td>\n",
       "      <td>Photos super</td>\n",
       "    </tr>\n",
       "    <tr>\n",
       "      <th>6</th>\n",
       "      <td>5</td>\n",
       "      <td>Wonderful</td>\n",
       "      <td>This is amazing at all</td>\n",
       "    </tr>\n",
       "    <tr>\n",
       "      <th>7</th>\n",
       "      <td>5</td>\n",
       "      <td>Perfect product!</td>\n",
       "      <td>V Good all</td>\n",
       "    </tr>\n",
       "    <tr>\n",
       "      <th>8</th>\n",
       "      <td>5</td>\n",
       "      <td>Excellent</td>\n",
       "      <td>NYC</td>\n",
       "    </tr>\n",
       "    <tr>\n",
       "      <th>9</th>\n",
       "      <td>5</td>\n",
       "      <td>Brilliant</td>\n",
       "      <td>very good camera quality</td>\n",
       "    </tr>\n",
       "    <tr>\n",
       "      <th>10</th>\n",
       "      <td>5</td>\n",
       "      <td>Awesome</td>\n",
       "      <td>iPhone 11 is a good phone. Not a very big diff...</td>\n",
       "    </tr>\n",
       "    <tr>\n",
       "      <th>11</th>\n",
       "      <td>5</td>\n",
       "      <td>Must buy!</td>\n",
       "      <td>It’s really awesome</td>\n",
       "    </tr>\n",
       "    <tr>\n",
       "      <th>12</th>\n",
       "      <td>5</td>\n",
       "      <td>Fabulous!</td>\n",
       "      <td>It’s very good battery life and display and vi...</td>\n",
       "    </tr>\n",
       "    <tr>\n",
       "      <th>13</th>\n",
       "      <td>5</td>\n",
       "      <td>Just wow!</td>\n",
       "      <td>Perfect Product!!</td>\n",
       "    </tr>\n",
       "    <tr>\n",
       "      <th>14</th>\n",
       "      <td>5</td>\n",
       "      <td>Fabulous!</td>\n",
       "      <td>Super🔥 and good performance 👌❤️</td>\n",
       "    </tr>\n",
       "    <tr>\n",
       "      <th>15</th>\n",
       "      <td>5</td>\n",
       "      <td>Terrific purchase</td>\n",
       "      <td>Value for money 🖤🖤</td>\n",
       "    </tr>\n",
       "    <tr>\n",
       "      <th>16</th>\n",
       "      <td>5</td>\n",
       "      <td>Brilliant</td>\n",
       "      <td>Excellent Phone.</td>\n",
       "    </tr>\n",
       "    <tr>\n",
       "      <th>17</th>\n",
       "      <td>5</td>\n",
       "      <td>Simply awesome</td>\n",
       "      <td>Really satisfied with the Product I received.....</td>\n",
       "    </tr>\n",
       "    <tr>\n",
       "      <th>18</th>\n",
       "      <td>5</td>\n",
       "      <td>Super!</td>\n",
       "      <td>Good product 👌I love iPhone</td>\n",
       "    </tr>\n",
       "    <tr>\n",
       "      <th>19</th>\n",
       "      <td>5</td>\n",
       "      <td>Highly recommended</td>\n",
       "      <td>My first ever I phone and awesome performance ...</td>\n",
       "    </tr>\n",
       "    <tr>\n",
       "      <th>20</th>\n",
       "      <td>5</td>\n",
       "      <td>Wonderful</td>\n",
       "      <td>Excellent Fabulous Adorable Iphone 11 Value fo...</td>\n",
       "    </tr>\n",
       "    <tr>\n",
       "      <th>21</th>\n",
       "      <td>5</td>\n",
       "      <td>Brilliant</td>\n",
       "      <td>Perfect iPhone on this budget!! Camera and the...</td>\n",
       "    </tr>\n",
       "    <tr>\n",
       "      <th>22</th>\n",
       "      <td>5</td>\n",
       "      <td>Terrific purchase</td>\n",
       "      <td>Awesome Thanks Flipkart</td>\n",
       "    </tr>\n",
       "    <tr>\n",
       "      <th>23</th>\n",
       "      <td>5</td>\n",
       "      <td>Brilliant</td>\n",
       "      <td>Best phone</td>\n",
       "    </tr>\n",
       "    <tr>\n",
       "      <th>24</th>\n",
       "      <td>5</td>\n",
       "      <td>Classy product</td>\n",
       "      <td>Outstanding performance this phone</td>\n",
       "    </tr>\n",
       "    <tr>\n",
       "      <th>25</th>\n",
       "      <td>5</td>\n",
       "      <td>Excellent</td>\n",
       "      <td>A perfect phone and a good battery super camer...</td>\n",
       "    </tr>\n",
       "    <tr>\n",
       "      <th>26</th>\n",
       "      <td>5</td>\n",
       "      <td>Perfect product!</td>\n",
       "      <td>Very nice iPhone 11 i lake</td>\n",
       "    </tr>\n",
       "    <tr>\n",
       "      <th>27</th>\n",
       "      <td>5</td>\n",
       "      <td>Brilliant</td>\n",
       "      <td>Fantastic phone</td>\n",
       "    </tr>\n",
       "    <tr>\n",
       "      <th>28</th>\n",
       "      <td>5</td>\n",
       "      <td>Must buy!</td>\n",
       "      <td>Excellent</td>\n",
       "    </tr>\n",
       "    <tr>\n",
       "      <th>29</th>\n",
       "      <td>5</td>\n",
       "      <td>Terrific</td>\n",
       "      <td>Really worth of money. i just love it. It is t...</td>\n",
       "    </tr>\n",
       "    <tr>\n",
       "      <th>30</th>\n",
       "      <td>5</td>\n",
       "      <td>Just wow!</td>\n",
       "      <td>Best in class. Battery backup is good especial...</td>\n",
       "    </tr>\n",
       "    <tr>\n",
       "      <th>31</th>\n",
       "      <td>5</td>\n",
       "      <td>Worth every penny</td>\n",
       "      <td>I love the design better than iPhone 12 in loo...</td>\n",
       "    </tr>\n",
       "    <tr>\n",
       "      <th>32</th>\n",
       "      <td>5</td>\n",
       "      <td>Terrific</td>\n",
       "      <td>Love it</td>\n",
       "    </tr>\n",
       "    <tr>\n",
       "      <th>33</th>\n",
       "      <td>4</td>\n",
       "      <td>Wonderful</td>\n",
       "      <td>camera is very good.</td>\n",
       "    </tr>\n",
       "    <tr>\n",
       "      <th>34</th>\n",
       "      <td>5</td>\n",
       "      <td>Terrific purchase</td>\n",
       "      <td>Value for money 😍</td>\n",
       "    </tr>\n",
       "    <tr>\n",
       "      <th>35</th>\n",
       "      <td>5</td>\n",
       "      <td>Best in the market!</td>\n",
       "      <td>Good Camera</td>\n",
       "    </tr>\n",
       "    <tr>\n",
       "      <th>36</th>\n",
       "      <td>5</td>\n",
       "      <td>Awesome</td>\n",
       "      <td>Best All rounder Mob phone I love i phone ❤️</td>\n",
       "    </tr>\n",
       "    <tr>\n",
       "      <th>37</th>\n",
       "      <td>5</td>\n",
       "      <td>Must buy!</td>\n",
       "      <td>1.Camera is excellent\\n2. I love Iphone For it...</td>\n",
       "    </tr>\n",
       "    <tr>\n",
       "      <th>38</th>\n",
       "      <td>5</td>\n",
       "      <td>Wonderful</td>\n",
       "      <td>Finally purchased iphone 11 instead of XR and ...</td>\n",
       "    </tr>\n",
       "    <tr>\n",
       "      <th>39</th>\n",
       "      <td>4</td>\n",
       "      <td>Pretty good</td>\n",
       "      <td>Good product. Bought on a good deal. Been arou...</td>\n",
       "    </tr>\n",
       "    <tr>\n",
       "      <th>40</th>\n",
       "      <td>5</td>\n",
       "      <td>Wonderful</td>\n",
       "      <td>Amazing!!!\\n\\niPhone 11 is love.</td>\n",
       "    </tr>\n",
       "    <tr>\n",
       "      <th>41</th>\n",
       "      <td>5</td>\n",
       "      <td>Mind-blowing purchase</td>\n",
       "      <td>Awesome</td>\n",
       "    </tr>\n",
       "    <tr>\n",
       "      <th>42</th>\n",
       "      <td>5</td>\n",
       "      <td>Excellent</td>\n",
       "      <td>Awesome...🤩😍😍</td>\n",
       "    </tr>\n",
       "    <tr>\n",
       "      <th>43</th>\n",
       "      <td>5</td>\n",
       "      <td>Great product</td>\n",
       "      <td>my 1st iphone,iphone 11 and xr also good in th...</td>\n",
       "    </tr>\n",
       "  </tbody>\n",
       "</table>\n",
       "</div>"
      ],
      "text/plain": [
       "   Rating                 Review  \\\n",
       "0       5               Terrific   \n",
       "1       5    Best in the market!   \n",
       "2       5         Classy product   \n",
       "3       5      Worth every penny   \n",
       "4       5      Terrific purchase   \n",
       "5       5       Perfect product!   \n",
       "6       5              Wonderful   \n",
       "7       5       Perfect product!   \n",
       "8       5              Excellent   \n",
       "9       5              Brilliant   \n",
       "10      5                Awesome   \n",
       "11      5              Must buy!   \n",
       "12      5              Fabulous!   \n",
       "13      5              Just wow!   \n",
       "14      5              Fabulous!   \n",
       "15      5      Terrific purchase   \n",
       "16      5              Brilliant   \n",
       "17      5         Simply awesome   \n",
       "18      5                 Super!   \n",
       "19      5     Highly recommended   \n",
       "20      5              Wonderful   \n",
       "21      5              Brilliant   \n",
       "22      5      Terrific purchase   \n",
       "23      5              Brilliant   \n",
       "24      5         Classy product   \n",
       "25      5              Excellent   \n",
       "26      5       Perfect product!   \n",
       "27      5              Brilliant   \n",
       "28      5              Must buy!   \n",
       "29      5               Terrific   \n",
       "30      5              Just wow!   \n",
       "31      5      Worth every penny   \n",
       "32      5               Terrific   \n",
       "33      4              Wonderful   \n",
       "34      5      Terrific purchase   \n",
       "35      5    Best in the market!   \n",
       "36      5                Awesome   \n",
       "37      5              Must buy!   \n",
       "38      5              Wonderful   \n",
       "39      4            Pretty good   \n",
       "40      5              Wonderful   \n",
       "41      5  Mind-blowing purchase   \n",
       "42      5              Excellent   \n",
       "43      5          Great product   \n",
       "\n",
       "                                                 Full  \n",
       "0                                      Very very good  \n",
       "1                                         Good Camera  \n",
       "2   Camera is awesome\\nBest battery backup\\nA perf...  \n",
       "3   Feeling awesome after getting the delivery of ...  \n",
       "4                                   Value for money 😍  \n",
       "5                                        Photos super  \n",
       "6                              This is amazing at all  \n",
       "7                                          V Good all  \n",
       "8                                                 NYC  \n",
       "9                            very good camera quality  \n",
       "10  iPhone 11 is a good phone. Not a very big diff...  \n",
       "11                                It’s really awesome  \n",
       "12  It’s very good battery life and display and vi...  \n",
       "13                                  Perfect Product!!  \n",
       "14                    Super🔥 and good performance 👌❤️  \n",
       "15                                 Value for money 🖤🖤  \n",
       "16                                   Excellent Phone.  \n",
       "17  Really satisfied with the Product I received.....  \n",
       "18                        Good product 👌I love iPhone  \n",
       "19  My first ever I phone and awesome performance ...  \n",
       "20  Excellent Fabulous Adorable Iphone 11 Value fo...  \n",
       "21  Perfect iPhone on this budget!! Camera and the...  \n",
       "22                            Awesome Thanks Flipkart  \n",
       "23                                         Best phone  \n",
       "24                 Outstanding performance this phone  \n",
       "25  A perfect phone and a good battery super camer...  \n",
       "26                         Very nice iPhone 11 i lake  \n",
       "27                                    Fantastic phone  \n",
       "28                                          Excellent  \n",
       "29  Really worth of money. i just love it. It is t...  \n",
       "30  Best in class. Battery backup is good especial...  \n",
       "31  I love the design better than iPhone 12 in loo...  \n",
       "32                                            Love it  \n",
       "33                               camera is very good.  \n",
       "34                                  Value for money 😍  \n",
       "35                                        Good Camera  \n",
       "36       Best All rounder Mob phone I love i phone ❤️  \n",
       "37  1.Camera is excellent\\n2. I love Iphone For it...  \n",
       "38  Finally purchased iphone 11 instead of XR and ...  \n",
       "39  Good product. Bought on a good deal. Been arou...  \n",
       "40                   Amazing!!!\\n\\niPhone 11 is love.  \n",
       "41                                            Awesome  \n",
       "42                                      Awesome...🤩😍😍  \n",
       "43  my 1st iphone,iphone 11 and xr also good in th...  "
      ]
     },
     "execution_count": 56,
     "metadata": {},
     "output_type": "execute_result"
    }
   ],
   "source": [
    "df=pd.DataFrame({'Rating':Phone_Rating,'Review':Review_Summery,'Full':Full_Review})\n",
    "df.head(100)"
   ]
  },
  {
   "cell_type": "markdown",
   "id": "3b5251e0-05c5-4fb6-bedf-72641c617c33",
   "metadata": {},
   "source": [
    "Q4: Scrape data forfirst 100 sneakers you find whenyouvisitflipkart.com and search for “sneakers” inthe search\n",
    "field.\n",
    "You have to scrape 3 attributes of each sneaker:\n",
    "1. Brand\n",
    "2. ProductDescription\n",
    "3. Price\n",
    "As shown in the below image, you have to scrape the above attributes.\n"
   ]
  },
  {
   "cell_type": "code",
   "execution_count": 57,
   "id": "7ee42e35-2787-4845-8e65-b81f5e130582",
   "metadata": {},
   "outputs": [
    {
     "name": "stdout",
     "output_type": "stream",
     "text": [
      "Requirement already satisfied: selenium in c:\\users\\ashu_\\anaconda3\\lib\\site-packages (4.24.0)\n",
      "Requirement already satisfied: urllib3<3,>=1.26 in c:\\users\\ashu_\\anaconda3\\lib\\site-packages (from urllib3[socks]<3,>=1.26->selenium) (2.0.7)\n",
      "Requirement already satisfied: trio~=0.17 in c:\\users\\ashu_\\anaconda3\\lib\\site-packages (from selenium) (0.26.2)\n",
      "Requirement already satisfied: trio-websocket~=0.9 in c:\\users\\ashu_\\anaconda3\\lib\\site-packages (from selenium) (0.11.1)\n",
      "Requirement already satisfied: certifi>=2021.10.8 in c:\\users\\ashu_\\anaconda3\\lib\\site-packages (from selenium) (2024.2.2)\n",
      "Requirement already satisfied: typing_extensions~=4.9 in c:\\users\\ashu_\\anaconda3\\lib\\site-packages (from selenium) (4.9.0)\n",
      "Requirement already satisfied: websocket-client~=1.8 in c:\\users\\ashu_\\anaconda3\\lib\\site-packages (from selenium) (1.8.0)\n",
      "Requirement already satisfied: attrs>=23.2.0 in c:\\users\\ashu_\\anaconda3\\lib\\site-packages (from trio~=0.17->selenium) (24.2.0)\n",
      "Requirement already satisfied: sortedcontainers in c:\\users\\ashu_\\anaconda3\\lib\\site-packages (from trio~=0.17->selenium) (2.4.0)\n",
      "Requirement already satisfied: idna in c:\\users\\ashu_\\anaconda3\\lib\\site-packages (from trio~=0.17->selenium) (3.4)\n",
      "Requirement already satisfied: outcome in c:\\users\\ashu_\\anaconda3\\lib\\site-packages (from trio~=0.17->selenium) (1.3.0.post0)\n",
      "Requirement already satisfied: sniffio>=1.3.0 in c:\\users\\ashu_\\anaconda3\\lib\\site-packages (from trio~=0.17->selenium) (1.3.0)\n",
      "Requirement already satisfied: cffi>=1.14 in c:\\users\\ashu_\\anaconda3\\lib\\site-packages (from trio~=0.17->selenium) (1.16.0)\n",
      "Requirement already satisfied: wsproto>=0.14 in c:\\users\\ashu_\\anaconda3\\lib\\site-packages (from trio-websocket~=0.9->selenium) (1.2.0)\n",
      "Requirement already satisfied: pysocks!=1.5.7,<2.0,>=1.5.6 in c:\\users\\ashu_\\anaconda3\\lib\\site-packages (from urllib3[socks]<3,>=1.26->selenium) (1.7.1)\n",
      "Requirement already satisfied: pycparser in c:\\users\\ashu_\\anaconda3\\lib\\site-packages (from cffi>=1.14->trio~=0.17->selenium) (2.21)\n",
      "Requirement already satisfied: h11<1,>=0.9.0 in c:\\users\\ashu_\\anaconda3\\lib\\site-packages (from wsproto>=0.14->trio-websocket~=0.9->selenium) (0.14.0)\n"
     ]
    }
   ],
   "source": [
    "!pip install selenium"
   ]
  },
  {
   "cell_type": "code",
   "execution_count": 58,
   "id": "cca5e094-8320-43c5-a2e0-914ebb3a7101",
   "metadata": {},
   "outputs": [],
   "source": [
    "driver=webdriver.Chrome()"
   ]
  },
  {
   "cell_type": "code",
   "execution_count": 59,
   "id": "e69276b0-aaae-49d3-8043-3ea74a44c230",
   "metadata": {},
   "outputs": [],
   "source": [
    "driver.get(\"https://www.flipkart.com\")"
   ]
  },
  {
   "cell_type": "code",
   "execution_count": 60,
   "id": "eb0a26a4-5bb1-4076-8bd1-4967b958d333",
   "metadata": {},
   "outputs": [],
   "source": [
    "sneakers_way=driver.find_element(By.CLASS_NAME,\"Pke_EE\")\n",
    "sneakers_way.send_keys(\"sneakers\")"
   ]
  },
  {
   "cell_type": "code",
   "execution_count": 61,
   "id": "f927c044-4d9f-4c4f-9fa6-a8e157a5be5c",
   "metadata": {},
   "outputs": [],
   "source": [
    "search=driver.find_element(By.CLASS_NAME,\"_2iLD__\")\n",
    "search.click()"
   ]
  },
  {
   "cell_type": "code",
   "execution_count": 62,
   "id": "a65479fc-101a-49ef-ba98-e5d8fdde49b3",
   "metadata": {},
   "outputs": [],
   "source": [
    "Brand_name=[]\n",
    "Product_Description=[]\n",
    "Product_Price=[]"
   ]
  },
  {
   "cell_type": "code",
   "execution_count": 63,
   "id": "714151b7-8393-4f32-bb8b-169ad7e1b920",
   "metadata": {},
   "outputs": [],
   "source": [
    "Brand_tags=driver.find_elements(By.XPATH,'//div[@class=\"syl9yP\"]')\n",
    "for i in Brand_tags:\n",
    "    Brand=i.text\n",
    "    Brand_name.append(Brand)"
   ]
  },
  {
   "cell_type": "code",
   "execution_count": 64,
   "id": "f2176e4c-4085-4f95-917c-25d93677dbae",
   "metadata": {},
   "outputs": [],
   "source": [
    "Product_tags=driver.find_elements(By.XPATH,'//div[@class=\"hCKiGj\"]')\n",
    "for i in Product_tags:\n",
    "    Product=i.text\n",
    "    Product_Description.append(Product)"
   ]
  },
  {
   "cell_type": "code",
   "execution_count": 65,
   "id": "600dfaaa-eadb-4a47-865f-a89f89d9d293",
   "metadata": {},
   "outputs": [],
   "source": [
    "Price_tags=driver.find_elements(By.XPATH,'//div[@class=\"Nx9bqj\"]')\n",
    "for i in Price_tags:\n",
    "    Price=i.text\n",
    "    Product_Price.append(Price)"
   ]
  },
  {
   "cell_type": "code",
   "execution_count": 66,
   "id": "573488dd-5080-45a5-9a9c-ec98b3da5fa8",
   "metadata": {},
   "outputs": [],
   "source": [
    "search=driver.find_element(By.XPATH,\"/html/body/div/div/div[3]/div[1]/div[2]/div[12]/div/div/nav/a[11]\")\n",
    "search.click()"
   ]
  },
  {
   "cell_type": "code",
   "execution_count": 67,
   "id": "cdc3b478-31a7-4c66-aaa3-3327934923b0",
   "metadata": {},
   "outputs": [],
   "source": [
    "Brand_tags=driver.find_elements(By.XPATH,'//div[@class=\"syl9yP\"]')\n",
    "for i in Brand_tags:\n",
    "    Brand=i.text\n",
    "    Brand_name.append(Brand)\n",
    "\n",
    "Product_tags=driver.find_elements(By.XPATH,'//div[@class=\"hCKiGj\"]')\n",
    "for i in Product_tags:\n",
    "    Product=i.text\n",
    "    Product_Description.append(Product)\n",
    "\n",
    "Price_tags=driver.find_elements(By.XPATH,'//div[@class=\"Nx9bqj\"]')\n",
    "for i in Price_tags:\n",
    "    Price=i.text\n",
    "    Product_Price.append(Price)"
   ]
  },
  {
   "cell_type": "code",
   "execution_count": 68,
   "id": "fda07a4e-789f-4194-af59-ff0412660c69",
   "metadata": {},
   "outputs": [],
   "source": [
    "search=driver.find_element(By.XPATH,\"/html/body/div/div/div[3]/div[1]/div[2]/div[12]/div/div/nav/a[11]\")\n",
    "search.click()"
   ]
  },
  {
   "cell_type": "code",
   "execution_count": 69,
   "id": "c7a3a390-da2a-40f6-895d-6457311f11c4",
   "metadata": {},
   "outputs": [],
   "source": [
    "Brand_tags=driver.find_elements(By.XPATH,'//div[@class=\"syl9yP\"]')\n",
    "for i in Brand_tags:\n",
    "    Brand=i.text\n",
    "    Brand_name.append(Brand)\n",
    "\n",
    "Product_tags=driver.find_elements(By.XPATH,'//div[@class=\"hCKiGj\"]')\n",
    "for i in Product_tags:\n",
    "    Product=i.text\n",
    "    Product_Description.append(Product)\n",
    "\n",
    "Price_tags=driver.find_elements(By.XPATH,'//div[@class=\"Nx9bqj\"]')\n",
    "for i in Price_tags:\n",
    "    Price=i.text\n",
    "    Product_Price.append(Price)"
   ]
  },
  {
   "cell_type": "code",
   "execution_count": 70,
   "id": "4d1147e0-6b21-4e7f-bf5d-6206947a90d6",
   "metadata": {},
   "outputs": [
    {
     "name": "stdout",
     "output_type": "stream",
     "text": [
      "120 120 120\n"
     ]
    }
   ],
   "source": [
    "print(len(Brand_name),len(Product_Description),len(Product_Price))"
   ]
  },
  {
   "cell_type": "code",
   "execution_count": 71,
   "id": "d63620e7-d8f1-4ced-b1c1-2b684c99a506",
   "metadata": {},
   "outputs": [
    {
     "data": {
      "text/html": [
       "<div>\n",
       "<style scoped>\n",
       "    .dataframe tbody tr th:only-of-type {\n",
       "        vertical-align: middle;\n",
       "    }\n",
       "\n",
       "    .dataframe tbody tr th {\n",
       "        vertical-align: top;\n",
       "    }\n",
       "\n",
       "    .dataframe thead th {\n",
       "        text-align: right;\n",
       "    }\n",
       "</style>\n",
       "<table border=\"1\" class=\"dataframe\">\n",
       "  <thead>\n",
       "    <tr style=\"text-align: right;\">\n",
       "      <th></th>\n",
       "      <th>Brand</th>\n",
       "      <th>Product</th>\n",
       "      <th>Price</th>\n",
       "    </tr>\n",
       "  </thead>\n",
       "  <tbody>\n",
       "    <tr>\n",
       "      <th>0</th>\n",
       "      <td>lejano</td>\n",
       "      <td>lejano\\nSneakers For Men\\n₹449₹1,29965% off\\nF...</td>\n",
       "      <td>₹449</td>\n",
       "    </tr>\n",
       "    <tr>\n",
       "      <th>1</th>\n",
       "      <td>BRUTON</td>\n",
       "      <td>BRUTON\\n! ComboPack of 2 !Casual Shoes! Sneake...</td>\n",
       "      <td>₹480</td>\n",
       "    </tr>\n",
       "    <tr>\n",
       "      <th>2</th>\n",
       "      <td>NIKE</td>\n",
       "      <td>NIKE\\nWinflo 10 Sneakers For Men\\n₹3,912₹8,695...</td>\n",
       "      <td>₹3,912</td>\n",
       "    </tr>\n",
       "    <tr>\n",
       "      <th>3</th>\n",
       "      <td>WROGN</td>\n",
       "      <td>WROGN\\nSneakers For Men\\n₹699₹1,99965% off\\nFr...</td>\n",
       "      <td>₹699</td>\n",
       "    </tr>\n",
       "    <tr>\n",
       "      <th>4</th>\n",
       "      <td>BRUTON</td>\n",
       "      <td>BRUTON\\n2 Combo Sneaker Shoes Sneakers For Men...</td>\n",
       "      <td>₹469</td>\n",
       "    </tr>\n",
       "    <tr>\n",
       "      <th>...</th>\n",
       "      <td>...</td>\n",
       "      <td>...</td>\n",
       "      <td>...</td>\n",
       "    </tr>\n",
       "    <tr>\n",
       "      <th>95</th>\n",
       "      <td>WOODLAND</td>\n",
       "      <td>WOODLAND\\nSneakers For Men\\n₹1,587₹2,99547% of...</td>\n",
       "      <td>₹1,587</td>\n",
       "    </tr>\n",
       "    <tr>\n",
       "      <th>96</th>\n",
       "      <td>WOODLAND</td>\n",
       "      <td>WOODLAND\\nSneakers For Men\\n₹1,746₹3,29547% of...</td>\n",
       "      <td>₹1,746</td>\n",
       "    </tr>\n",
       "    <tr>\n",
       "      <th>97</th>\n",
       "      <td>Paragon</td>\n",
       "      <td>Paragon\\nBlot K1221G Stylish Walking Outdoor D...</td>\n",
       "      <td>₹649</td>\n",
       "    </tr>\n",
       "    <tr>\n",
       "      <th>98</th>\n",
       "      <td>Skechers</td>\n",
       "      <td>Skechers\\nSIERRA - WINDY WAY Sneakers For Wome...</td>\n",
       "      <td>₹3,199</td>\n",
       "    </tr>\n",
       "    <tr>\n",
       "      <th>99</th>\n",
       "      <td>Skechers</td>\n",
       "      <td>Skechers\\nSKECH-AIR DYNAMIGHT - WINLY Sneakers...</td>\n",
       "      <td>₹2,897</td>\n",
       "    </tr>\n",
       "  </tbody>\n",
       "</table>\n",
       "<p>100 rows × 3 columns</p>\n",
       "</div>"
      ],
      "text/plain": [
       "       Brand                                            Product   Price\n",
       "0     lejano  lejano\\nSneakers For Men\\n₹449₹1,29965% off\\nF...    ₹449\n",
       "1     BRUTON  BRUTON\\n! ComboPack of 2 !Casual Shoes! Sneake...    ₹480\n",
       "2       NIKE  NIKE\\nWinflo 10 Sneakers For Men\\n₹3,912₹8,695...  ₹3,912\n",
       "3      WROGN  WROGN\\nSneakers For Men\\n₹699₹1,99965% off\\nFr...    ₹699\n",
       "4     BRUTON  BRUTON\\n2 Combo Sneaker Shoes Sneakers For Men...    ₹469\n",
       "..       ...                                                ...     ...\n",
       "95  WOODLAND  WOODLAND\\nSneakers For Men\\n₹1,587₹2,99547% of...  ₹1,587\n",
       "96  WOODLAND  WOODLAND\\nSneakers For Men\\n₹1,746₹3,29547% of...  ₹1,746\n",
       "97   Paragon  Paragon\\nBlot K1221G Stylish Walking Outdoor D...    ₹649\n",
       "98  Skechers  Skechers\\nSIERRA - WINDY WAY Sneakers For Wome...  ₹3,199\n",
       "99  Skechers  Skechers\\nSKECH-AIR DYNAMIGHT - WINLY Sneakers...  ₹2,897\n",
       "\n",
       "[100 rows x 3 columns]"
      ]
     },
     "execution_count": 71,
     "metadata": {},
     "output_type": "execute_result"
    }
   ],
   "source": [
    "df=pd.DataFrame({'Brand':Brand_name,'Product':Product_Description,'Price':Product_Price})\n",
    "df.head(100)"
   ]
  },
  {
   "cell_type": "markdown",
   "id": "f322a5c1-82c6-4322-85c1-8bfd448b3d3d",
   "metadata": {},
   "source": [
    "Q5: Go to webpage https://www.amazon.in/ Enter “Laptop” in the search field and then click the search icon. Then set CPU\n",
    "Type filter to “Intel Core i7” as shown in the below image:\n",
    "Aftersetting the filters scrape first 10 laptops data. You have to scrape 3 attributes for each laptop:\n",
    "1. Title\n",
    "2. Ratings\n",
    "3. Price\n"
   ]
  },
  {
   "cell_type": "code",
   "execution_count": 72,
   "id": "802fefe0-5c00-4169-9e95-6baab5101fca",
   "metadata": {},
   "outputs": [
    {
     "name": "stdout",
     "output_type": "stream",
     "text": [
      "Requirement already satisfied: selenium in c:\\users\\ashu_\\anaconda3\\lib\\site-packages (4.24.0)\n",
      "Requirement already satisfied: urllib3<3,>=1.26 in c:\\users\\ashu_\\anaconda3\\lib\\site-packages (from urllib3[socks]<3,>=1.26->selenium) (2.0.7)\n",
      "Requirement already satisfied: trio~=0.17 in c:\\users\\ashu_\\anaconda3\\lib\\site-packages (from selenium) (0.26.2)\n",
      "Requirement already satisfied: trio-websocket~=0.9 in c:\\users\\ashu_\\anaconda3\\lib\\site-packages (from selenium) (0.11.1)\n",
      "Requirement already satisfied: certifi>=2021.10.8 in c:\\users\\ashu_\\anaconda3\\lib\\site-packages (from selenium) (2024.2.2)\n",
      "Requirement already satisfied: typing_extensions~=4.9 in c:\\users\\ashu_\\anaconda3\\lib\\site-packages (from selenium) (4.9.0)\n",
      "Requirement already satisfied: websocket-client~=1.8 in c:\\users\\ashu_\\anaconda3\\lib\\site-packages (from selenium) (1.8.0)\n",
      "Requirement already satisfied: attrs>=23.2.0 in c:\\users\\ashu_\\anaconda3\\lib\\site-packages (from trio~=0.17->selenium) (24.2.0)\n",
      "Requirement already satisfied: sortedcontainers in c:\\users\\ashu_\\anaconda3\\lib\\site-packages (from trio~=0.17->selenium) (2.4.0)\n",
      "Requirement already satisfied: idna in c:\\users\\ashu_\\anaconda3\\lib\\site-packages (from trio~=0.17->selenium) (3.4)\n",
      "Requirement already satisfied: outcome in c:\\users\\ashu_\\anaconda3\\lib\\site-packages (from trio~=0.17->selenium) (1.3.0.post0)\n",
      "Requirement already satisfied: sniffio>=1.3.0 in c:\\users\\ashu_\\anaconda3\\lib\\site-packages (from trio~=0.17->selenium) (1.3.0)\n",
      "Requirement already satisfied: cffi>=1.14 in c:\\users\\ashu_\\anaconda3\\lib\\site-packages (from trio~=0.17->selenium) (1.16.0)\n",
      "Requirement already satisfied: wsproto>=0.14 in c:\\users\\ashu_\\anaconda3\\lib\\site-packages (from trio-websocket~=0.9->selenium) (1.2.0)\n",
      "Requirement already satisfied: pysocks!=1.5.7,<2.0,>=1.5.6 in c:\\users\\ashu_\\anaconda3\\lib\\site-packages (from urllib3[socks]<3,>=1.26->selenium) (1.7.1)\n",
      "Requirement already satisfied: pycparser in c:\\users\\ashu_\\anaconda3\\lib\\site-packages (from cffi>=1.14->trio~=0.17->selenium) (2.21)\n",
      "Requirement already satisfied: h11<1,>=0.9.0 in c:\\users\\ashu_\\anaconda3\\lib\\site-packages (from wsproto>=0.14->trio-websocket~=0.9->selenium) (0.14.0)\n"
     ]
    }
   ],
   "source": [
    "!pip install selenium"
   ]
  },
  {
   "cell_type": "code",
   "execution_count": 73,
   "id": "dcaa0bd4-df6f-4dbd-adc0-cdddcf4e3a53",
   "metadata": {},
   "outputs": [],
   "source": [
    "import selenium\n",
    "import pandas as pd\n",
    "from selenium import webdriver\n",
    "import warnings\n",
    "warnings.filterwarnings('ignore')\n",
    "from selenium.webdriver.common.by import By\n",
    "import time"
   ]
  },
  {
   "cell_type": "code",
   "execution_count": 74,
   "id": "5fc5f7d0-8d6c-4d3c-b4b2-222af59fa6c1",
   "metadata": {},
   "outputs": [],
   "source": [
    "driver=webdriver.Chrome()"
   ]
  },
  {
   "cell_type": "code",
   "execution_count": 75,
   "id": "69ef3ad8-24f5-4b33-a5dc-e1e995a3def9",
   "metadata": {},
   "outputs": [],
   "source": [
    "driver.get(\" https://www.amazon.in/\")"
   ]
  },
  {
   "cell_type": "code",
   "execution_count": 76,
   "id": "701adae4-b744-4a41-aae5-3dfdf89ef7a2",
   "metadata": {},
   "outputs": [],
   "source": [
    "Purchase = driver.find_element(By.ID,\"twotabsearchtextbox\")\n",
    "Purchase.send_keys('Laptop')              "
   ]
  },
  {
   "cell_type": "code",
   "execution_count": 77,
   "id": "20c125c2-5784-4679-ae63-82221b13ed64",
   "metadata": {},
   "outputs": [],
   "source": [
    "search=driver.find_element(By.CLASS_NAME,\"nav-search-submit-text\")\n",
    "search.click()"
   ]
  },
  {
   "cell_type": "code",
   "execution_count": 78,
   "id": "0a12b710-500b-487d-b729-b57b33d0fff5",
   "metadata": {},
   "outputs": [],
   "source": [
    "search=driver.find_element(By.XPATH,\"/html/body/div[1]/div[1]/div[1]/div[2]/div/div[3]/span/div[1]/span/div/div/div[5]/ul[2]/span/span[9]/li/span/a/span\")\n",
    "search.click()"
   ]
  },
  {
   "cell_type": "code",
   "execution_count": 79,
   "id": "ea42d689-ddf5-431d-822d-0c3a804cd19f",
   "metadata": {},
   "outputs": [],
   "source": [
    "Product_Title=[]\n",
    "Product_Rating=[]\n",
    "Product_Price=[]"
   ]
  },
  {
   "cell_type": "code",
   "execution_count": 80,
   "id": "5876b7ee-0a91-456a-af87-91ae87ba6c96",
   "metadata": {},
   "outputs": [],
   "source": [
    "Product_tags=driver.find_elements(By.XPATH,'//h2[@class=\"a-size-mini a-spacing-none a-color-base s-line-clamp-2\"]')\n",
    "for i in Product_tags:\n",
    "    title=i.text\n",
    "    Product_Title.append(title)"
   ]
  },
  {
   "cell_type": "code",
   "execution_count": 81,
   "id": "c3ac1523-3b91-4e82-9500-d58a2b54a841",
   "metadata": {},
   "outputs": [],
   "source": [
    "Product_tags=driver.find_elements(By.XPATH,'//div[@class=\"a-row a-size-small\"]')\n",
    "for i in Product_tags:\n",
    "    Rating=i.text\n",
    "    Product_Rating.append(Rating)"
   ]
  },
  {
   "cell_type": "code",
   "execution_count": 82,
   "id": "496b0d16-5790-4524-ae6b-bb7f39524846",
   "metadata": {},
   "outputs": [],
   "source": [
    "Product_tags=driver.find_elements(By.XPATH,'//span[@class=\"a-price-whole\"]')\n",
    "for i in Product_tags:\n",
    "    Price=i.text\n",
    "    Product_Price.append(Price)"
   ]
  },
  {
   "cell_type": "code",
   "execution_count": 83,
   "id": "4a6cb345-abfa-40d0-9ac1-f087aea7bd65",
   "metadata": {},
   "outputs": [
    {
     "name": "stdout",
     "output_type": "stream",
     "text": [
      "24 24\n"
     ]
    }
   ],
   "source": [
    "print(len(Product_Title),len(Product_Price))"
   ]
  },
  {
   "cell_type": "code",
   "execution_count": 84,
   "id": "0c8c01b8-c310-4662-bd7c-5c8d3b18b527",
   "metadata": {},
   "outputs": [
    {
     "data": {
      "text/html": [
       "<div>\n",
       "<style scoped>\n",
       "    .dataframe tbody tr th:only-of-type {\n",
       "        vertical-align: middle;\n",
       "    }\n",
       "\n",
       "    .dataframe tbody tr th {\n",
       "        vertical-align: top;\n",
       "    }\n",
       "\n",
       "    .dataframe thead th {\n",
       "        text-align: right;\n",
       "    }\n",
       "</style>\n",
       "<table border=\"1\" class=\"dataframe\">\n",
       "  <thead>\n",
       "    <tr style=\"text-align: right;\">\n",
       "      <th></th>\n",
       "      <th>title</th>\n",
       "      <th>Price</th>\n",
       "    </tr>\n",
       "  </thead>\n",
       "  <tbody>\n",
       "    <tr>\n",
       "      <th>0</th>\n",
       "      <td>HP Laptop 15s, 12th Gen Intel Core i7-1255U, 1...</td>\n",
       "      <td>59,990</td>\n",
       "    </tr>\n",
       "    <tr>\n",
       "      <th>1</th>\n",
       "      <td>Dell [Smartchoice] Inspiron 5430 Thin &amp; Light ...</td>\n",
       "      <td>75,490</td>\n",
       "    </tr>\n",
       "    <tr>\n",
       "      <th>2</th>\n",
       "      <td>HP Pavilion 14 12th Gen Intel Core i7 16GB SDR...</td>\n",
       "      <td>76,990</td>\n",
       "    </tr>\n",
       "    <tr>\n",
       "      <th>3</th>\n",
       "      <td>Acer Aspire Lite 12th Gen Intel Core i7-1255U ...</td>\n",
       "      <td>49,990</td>\n",
       "    </tr>\n",
       "    <tr>\n",
       "      <th>4</th>\n",
       "      <td>ASUS Vivobook 15, 15.6\" (39.62cm) FHD, Intel C...</td>\n",
       "      <td>61,990</td>\n",
       "    </tr>\n",
       "    <tr>\n",
       "      <th>5</th>\n",
       "      <td>Acer ALG 13th Gen Intel Core i7 Gaming Laptop ...</td>\n",
       "      <td>71,990</td>\n",
       "    </tr>\n",
       "    <tr>\n",
       "      <th>6</th>\n",
       "      <td>Acer Aspire Lite 12th Gen Intel Core i7-1255U ...</td>\n",
       "      <td>55,990</td>\n",
       "    </tr>\n",
       "    <tr>\n",
       "      <th>7</th>\n",
       "      <td>(Refurbished) Dell Latitude 7480 14in FHD Lapt...</td>\n",
       "      <td>27,531</td>\n",
       "    </tr>\n",
       "    <tr>\n",
       "      <th>8</th>\n",
       "      <td>ASUS TUF Gaming F15, 15.6\" (39.62cm) FHD 144Hz...</td>\n",
       "      <td>1,08,048</td>\n",
       "    </tr>\n",
       "    <tr>\n",
       "      <th>9</th>\n",
       "      <td>Dell Inspiron 3530 Laptop, 13th Generation Int...</td>\n",
       "      <td>69,890</td>\n",
       "    </tr>\n",
       "  </tbody>\n",
       "</table>\n",
       "</div>"
      ],
      "text/plain": [
       "                                               title     Price\n",
       "0  HP Laptop 15s, 12th Gen Intel Core i7-1255U, 1...    59,990\n",
       "1  Dell [Smartchoice] Inspiron 5430 Thin & Light ...    75,490\n",
       "2  HP Pavilion 14 12th Gen Intel Core i7 16GB SDR...    76,990\n",
       "3  Acer Aspire Lite 12th Gen Intel Core i7-1255U ...    49,990\n",
       "4  ASUS Vivobook 15, 15.6\" (39.62cm) FHD, Intel C...    61,990\n",
       "5  Acer ALG 13th Gen Intel Core i7 Gaming Laptop ...    71,990\n",
       "6  Acer Aspire Lite 12th Gen Intel Core i7-1255U ...    55,990\n",
       "7  (Refurbished) Dell Latitude 7480 14in FHD Lapt...    27,531\n",
       "8  ASUS TUF Gaming F15, 15.6\" (39.62cm) FHD 144Hz...  1,08,048\n",
       "9  Dell Inspiron 3530 Laptop, 13th Generation Int...    69,890"
      ]
     },
     "execution_count": 84,
     "metadata": {},
     "output_type": "execute_result"
    }
   ],
   "source": [
    "df=pd.DataFrame({'title':Product_Title,'Price':Product_Price})\n",
    "df.head(10)"
   ]
  },
  {
   "cell_type": "markdown",
   "id": "d7649fea-ab53-4701-aa2d-6e172f7771ba",
   "metadata": {},
   "source": [
    "Q6: Write a python program to scrape data for Top 1000 Quotes of All Time.\n",
    "The above task will be done in following steps:\n",
    "1. First get the webpagehttps://www.azquotes.com/\n",
    "2. Click on TopQuote\n",
    "3. Than scrap a)Quote b) Author c) Type Of Quotes"
   ]
  },
  {
   "cell_type": "code",
   "execution_count": 85,
   "id": "51cea0a3-132f-42db-9a34-9379124f8dc2",
   "metadata": {},
   "outputs": [
    {
     "name": "stdout",
     "output_type": "stream",
     "text": [
      "Requirement already satisfied: selenium in c:\\users\\ashu_\\anaconda3\\lib\\site-packages (4.24.0)\n",
      "Requirement already satisfied: urllib3<3,>=1.26 in c:\\users\\ashu_\\anaconda3\\lib\\site-packages (from urllib3[socks]<3,>=1.26->selenium) (2.0.7)\n",
      "Requirement already satisfied: trio~=0.17 in c:\\users\\ashu_\\anaconda3\\lib\\site-packages (from selenium) (0.26.2)\n",
      "Requirement already satisfied: trio-websocket~=0.9 in c:\\users\\ashu_\\anaconda3\\lib\\site-packages (from selenium) (0.11.1)\n",
      "Requirement already satisfied: certifi>=2021.10.8 in c:\\users\\ashu_\\anaconda3\\lib\\site-packages (from selenium) (2024.2.2)\n",
      "Requirement already satisfied: typing_extensions~=4.9 in c:\\users\\ashu_\\anaconda3\\lib\\site-packages (from selenium) (4.9.0)\n",
      "Requirement already satisfied: websocket-client~=1.8 in c:\\users\\ashu_\\anaconda3\\lib\\site-packages (from selenium) (1.8.0)\n",
      "Requirement already satisfied: attrs>=23.2.0 in c:\\users\\ashu_\\anaconda3\\lib\\site-packages (from trio~=0.17->selenium) (24.2.0)\n",
      "Requirement already satisfied: sortedcontainers in c:\\users\\ashu_\\anaconda3\\lib\\site-packages (from trio~=0.17->selenium) (2.4.0)\n",
      "Requirement already satisfied: idna in c:\\users\\ashu_\\anaconda3\\lib\\site-packages (from trio~=0.17->selenium) (3.4)\n",
      "Requirement already satisfied: outcome in c:\\users\\ashu_\\anaconda3\\lib\\site-packages (from trio~=0.17->selenium) (1.3.0.post0)\n",
      "Requirement already satisfied: sniffio>=1.3.0 in c:\\users\\ashu_\\anaconda3\\lib\\site-packages (from trio~=0.17->selenium) (1.3.0)\n",
      "Requirement already satisfied: cffi>=1.14 in c:\\users\\ashu_\\anaconda3\\lib\\site-packages (from trio~=0.17->selenium) (1.16.0)\n",
      "Requirement already satisfied: wsproto>=0.14 in c:\\users\\ashu_\\anaconda3\\lib\\site-packages (from trio-websocket~=0.9->selenium) (1.2.0)\n",
      "Requirement already satisfied: pysocks!=1.5.7,<2.0,>=1.5.6 in c:\\users\\ashu_\\anaconda3\\lib\\site-packages (from urllib3[socks]<3,>=1.26->selenium) (1.7.1)\n",
      "Requirement already satisfied: pycparser in c:\\users\\ashu_\\anaconda3\\lib\\site-packages (from cffi>=1.14->trio~=0.17->selenium) (2.21)\n",
      "Requirement already satisfied: h11<1,>=0.9.0 in c:\\users\\ashu_\\anaconda3\\lib\\site-packages (from wsproto>=0.14->trio-websocket~=0.9->selenium) (0.14.0)\n"
     ]
    }
   ],
   "source": [
    "!pip install selenium"
   ]
  },
  {
   "cell_type": "code",
   "execution_count": 86,
   "id": "ebe0b0c6-ff60-4f8b-acb3-05356647ceca",
   "metadata": {},
   "outputs": [],
   "source": [
    "import selenium\n",
    "import pandas as pd\n",
    "from selenium import webdriver\n",
    "warnings.filterwarnings('ignore')\n",
    "from selenium.webdriver.common.by import By\n",
    "import time"
   ]
  },
  {
   "cell_type": "code",
   "execution_count": 94,
   "id": "6cac9ab3-ee15-46e3-a40f-0a4509caf31c",
   "metadata": {},
   "outputs": [],
   "source": [
    "driver=webdriver.Chrome()"
   ]
  },
  {
   "cell_type": "code",
   "execution_count": 95,
   "id": "88e88978-0aa7-4aae-9e03-a51ca05560c9",
   "metadata": {},
   "outputs": [],
   "source": [
    "driver.get(\"https://www.azquotes.com/\")"
   ]
  },
  {
   "cell_type": "code",
   "execution_count": 96,
   "id": "c5620902-a317-41ad-826e-6004b59c7149",
   "metadata": {},
   "outputs": [],
   "source": [
    "Quotes_az=[]\n",
    "Author_az=[]\n",
    "Types_of_Quotes=[]"
   ]
  },
  {
   "cell_type": "code",
   "execution_count": 97,
   "id": "d2a21bc9-ba09-49e3-9f90-ce2e81112472",
   "metadata": {},
   "outputs": [],
   "source": [
    "Quotes_tags=driver.find_elements(By.XPATH,'//div[@class=\"title\"]')\n",
    "for i in Quotes_tags:\n",
    "    Quotes=i.text\n",
    "    Quotes_az.append(Quotes)"
   ]
  },
  {
   "cell_type": "code",
   "execution_count": 98,
   "id": "c16707f5-e626-4a8e-aa2b-bdcd2927c59c",
   "metadata": {},
   "outputs": [],
   "source": [
    "Author_tags=driver.find_elements(By.XPATH,'//div[@class=\"author\"]')\n",
    "for i in Author_tags:\n",
    "    Author=i.text\n",
    "    Author_az.append(Author)"
   ]
  },
  {
   "cell_type": "code",
   "execution_count": 99,
   "id": "52ce687e-164b-486b-b4b9-8e6102424220",
   "metadata": {},
   "outputs": [],
   "source": [
    "Types_tags=driver.find_elements(By.XPATH,'//div[@class=\"tags\"]')\n",
    "for i in Author_tags:\n",
    "    Quotes=i.text\n",
    "    Types_of_Quotes.append(Quotes)"
   ]
  },
  {
   "cell_type": "code",
   "execution_count": 100,
   "id": "97ddda3b-7232-46d5-9e16-70a86a8815fb",
   "metadata": {},
   "outputs": [],
   "source": [
    "search=driver.find_element(By.XPATH,'/html/body/div[1]/div[2]/div/div/div/div[1]/div/div[4]/li[12]')\n",
    "search.click()"
   ]
  },
  {
   "cell_type": "code",
   "execution_count": 101,
   "id": "3d180e92-38be-4594-a605-b3d292bb6296",
   "metadata": {},
   "outputs": [],
   "source": [
    "Quotes_tags=driver.find_elements(By.XPATH,'//div[@class=\"title\"]')\n",
    "for i in Quotes_tags:\n",
    "    Quotes=i.text\n",
    "    Quotes_az.append(Quotes)\n",
    "\n",
    "Author_tags=driver.find_elements(By.XPATH,'//div[@class=\"author\"]')\n",
    "for i in Author_tags:\n",
    "    Author=i.text\n",
    "    Author_az.append(Author)\n",
    "\n",
    "Types_tags=driver.find_elements(By.XPATH,'//div[@class=\"tags\"]')\n",
    "for i in Author_tags:\n",
    "    Quotes=i.text\n",
    "    Types_of_Quotes.append(Quotes)"
   ]
  },
  {
   "cell_type": "code",
   "execution_count": 102,
   "id": "da5528e5-1ca3-4cf9-819b-d1b097523ca8",
   "metadata": {},
   "outputs": [],
   "source": [
    "search=driver.find_element(By.XPATH,'/html/body/div[1]/div[2]/div/div/div/div[1]/div/div[4]/li[12]')\n",
    "search.click()"
   ]
  },
  {
   "cell_type": "code",
   "execution_count": 103,
   "id": "449219c7-9bd0-4820-9749-e01185b0a1b6",
   "metadata": {},
   "outputs": [],
   "source": [
    "Quotes_tags=driver.find_elements(By.XPATH,'//div[@class=\"title\"]')\n",
    "for i in Quotes_tags:\n",
    "    Quotes=i.text\n",
    "    Quotes_az.append(Quotes)\n",
    "\n",
    "Author_tags=driver.find_elements(By.XPATH,'//div[@class=\"author\"]')\n",
    "for i in Author_tags:\n",
    "    Author=i.text\n",
    "    Author_az.append(Author)\n",
    "\n",
    "Types_tags=driver.find_elements(By.XPATH,'//div[@class=\"tags\"]')\n",
    "for i in Author_tags:\n",
    "    Quotes=i.text\n",
    "    Types_of_Quotes.append(Quotes)"
   ]
  },
  {
   "cell_type": "code",
   "execution_count": 104,
   "id": "bd307dd9-813c-4e4d-9885-96e852374901",
   "metadata": {},
   "outputs": [],
   "source": [
    "search=driver.find_element(By.XPATH,'/html/body/div[1]/div[2]/div/div/div/div[1]/div/div[4]/li[12]')\n",
    "search.click()"
   ]
  },
  {
   "cell_type": "code",
   "execution_count": 105,
   "id": "654d741f-4c25-4250-af48-b4f66f3786a9",
   "metadata": {},
   "outputs": [],
   "source": [
    "Quotes_tags=driver.find_elements(By.XPATH,'//div[@class=\"title\"]')\n",
    "for i in Quotes_tags:\n",
    "    Quotes=i.text\n",
    "    Quotes_az.append(Quotes)\n",
    "\n",
    "Author_tags=driver.find_elements(By.XPATH,'//div[@class=\"author\"]')\n",
    "for i in Author_tags:\n",
    "    Author=i.text\n",
    "    Author_az.append(Author)\n",
    "\n",
    "Types_tags=driver.find_elements(By.XPATH,'//div[@class=\"tags\"]')\n",
    "for i in Author_tags:\n",
    "    Quotes=i.text\n",
    "    Types_of_Quotes.append(Quotes)"
   ]
  },
  {
   "cell_type": "code",
   "execution_count": 106,
   "id": "bba22600-5895-4f45-ab1b-4fcda5a5486e",
   "metadata": {},
   "outputs": [],
   "source": [
    "search=driver.find_element(By.XPATH,'/html/body/div[1]/div[2]/div/div/div/div[1]/div/div[4]/li[12]')\n",
    "search.click()"
   ]
  },
  {
   "cell_type": "code",
   "execution_count": 107,
   "id": "e5ec9922-dc73-4f09-b2fd-9bad82c607a4",
   "metadata": {},
   "outputs": [],
   "source": [
    "Quotes_tags=driver.find_elements(By.XPATH,'//div[@class=\"title\"]')\n",
    "for i in Quotes_tags:\n",
    "    Quotes=i.text\n",
    "    Quotes_az.append(Quotes)\n",
    "\n",
    "Author_tags=driver.find_elements(By.XPATH,'//div[@class=\"author\"]')\n",
    "for i in Author_tags:\n",
    "    Author=i.text\n",
    "    Author_az.append(Author)\n",
    "\n",
    "Types_tags=driver.find_elements(By.XPATH,'//div[@class=\"tags\"]')\n",
    "for i in Author_tags:\n",
    "    Quotes=i.text\n",
    "    Types_of_Quotes.append(Quotes)"
   ]
  },
  {
   "cell_type": "code",
   "execution_count": 108,
   "id": "d1c93db1-c1e1-44bb-b3ec-cfa28e028f5b",
   "metadata": {},
   "outputs": [],
   "source": [
    "search=driver.find_element(By.XPATH,'/html/body/div[1]/div[2]/div/div/div/div[1]/div/div[4]/li[12]')\n",
    "search.click()"
   ]
  },
  {
   "cell_type": "code",
   "execution_count": 109,
   "id": "726a83ef-2e2c-404f-9550-56094f621ea0",
   "metadata": {},
   "outputs": [],
   "source": [
    "Quotes_tags=driver.find_elements(By.XPATH,'//div[@class=\"title\"]')\n",
    "for i in Quotes_tags:\n",
    "    Quotes=i.text\n",
    "    Quotes_az.append(Quotes)\n",
    "\n",
    "Author_tags=driver.find_elements(By.XPATH,'//div[@class=\"author\"]')\n",
    "for i in Author_tags:\n",
    "    Author=i.text\n",
    "    Author_az.append(Author)\n",
    "\n",
    "Types_tags=driver.find_elements(By.XPATH,'//div[@class=\"tags\"]')\n",
    "for i in Author_tags:\n",
    "    Quotes=i.text\n",
    "    Types_of_Quotes.append(Quotes)"
   ]
  },
  {
   "cell_type": "code",
   "execution_count": 110,
   "id": "fae3e6c8-1c89-4cf8-8992-a4216aea0e0a",
   "metadata": {},
   "outputs": [],
   "source": [
    "search=driver.find_element(By.XPATH,'/html/body/div[1]/div[2]/div/div/div/div[1]/div/div[4]/li[12]')\n",
    "search.click()"
   ]
  },
  {
   "cell_type": "code",
   "execution_count": 111,
   "id": "db6eaa0b-c38d-4f00-aff8-9bcc9df317b1",
   "metadata": {},
   "outputs": [],
   "source": [
    "Quotes_tags=driver.find_elements(By.XPATH,'//div[@class=\"title\"]')\n",
    "for i in Quotes_tags:\n",
    "    Quotes=i.text\n",
    "    Quotes_az.append(Quotes)\n",
    "\n",
    "Author_tags=driver.find_elements(By.XPATH,'//div[@class=\"author\"]')\n",
    "for i in Author_tags:\n",
    "    Author=i.text\n",
    "    Author_az.append(Author)\n",
    "\n",
    "Types_tags=driver.find_elements(By.XPATH,'//div[@class=\"tags\"]')\n",
    "for i in Author_tags:\n",
    "    Quotes=i.text\n",
    "    Types_of_Quotes.append(Quotes)"
   ]
  },
  {
   "cell_type": "code",
   "execution_count": 112,
   "id": "8699e604-8bc8-4d14-bcbb-ca29a6ddbcc3",
   "metadata": {},
   "outputs": [],
   "source": [
    "search=driver.find_element(By.XPATH,'/html/body/div[1]/div[2]/div/div/div/div[1]/div/div[4]/li[12]')\n",
    "search.click()"
   ]
  },
  {
   "cell_type": "code",
   "execution_count": 113,
   "id": "32008e60-4076-47b8-a890-0880ce38da5f",
   "metadata": {},
   "outputs": [],
   "source": [
    "Quotes_tags=driver.find_elements(By.XPATH,'//div[@class=\"title\"]')\n",
    "for i in Quotes_tags:\n",
    "    Quotes=i.text\n",
    "    Quotes_az.append(Quotes)\n",
    "\n",
    "Author_tags=driver.find_elements(By.XPATH,'//div[@class=\"author\"]')\n",
    "for i in Author_tags:\n",
    "    Author=i.text\n",
    "    Author_az.append(Author)\n",
    "\n",
    "Types_tags=driver.find_elements(By.XPATH,'//div[@class=\"tags\"]')\n",
    "for i in Author_tags:\n",
    "    Quotes=i.text\n",
    "    Types_of_Quotes.append(Quotes)"
   ]
  },
  {
   "cell_type": "code",
   "execution_count": 114,
   "id": "47e251b4-e55b-4f09-9318-878cbf2faf0f",
   "metadata": {},
   "outputs": [],
   "source": [
    "search=driver.find_element(By.XPATH,'/html/body/div[1]/div[2]/div/div/div/div[1]/div/div[4]/li[12]')\n",
    "search.click()"
   ]
  },
  {
   "cell_type": "code",
   "execution_count": 115,
   "id": "4eac28b4-1813-4e29-ad68-2d6df82b31ec",
   "metadata": {},
   "outputs": [],
   "source": [
    "Quotes_tags=driver.find_elements(By.XPATH,'//div[@class=\"title\"]')\n",
    "for i in Quotes_tags:\n",
    "    Quotes=i.text\n",
    "    Quotes_az.append(Quotes)\n",
    "\n",
    "Author_tags=driver.find_elements(By.XPATH,'//div[@class=\"author\"]')\n",
    "for i in Author_tags:\n",
    "    Author=i.text\n",
    "    Author_az.append(Author)\n",
    "\n",
    "Types_tags=driver.find_elements(By.XPATH,'//div[@class=\"tags\"]')\n",
    "for i in Author_tags:\n",
    "    Quotes=i.text\n",
    "    Types_of_Quotes.append(Quotes)"
   ]
  },
  {
   "cell_type": "code",
   "execution_count": 116,
   "id": "20ab3693-b6fa-404a-b8ee-e9553547ff09",
   "metadata": {},
   "outputs": [],
   "source": [
    "search=driver.find_element(By.XPATH,'/html/body/div[1]/div[2]/div/div/div/div[1]/div/div[4]/li[12]')\n",
    "search.click()"
   ]
  },
  {
   "cell_type": "code",
   "execution_count": 117,
   "id": "173a9dfa-507d-4616-8e2e-0a46d70ba068",
   "metadata": {},
   "outputs": [],
   "source": [
    "Quotes_tags=driver.find_elements(By.XPATH,'//div[@class=\"title\"]')\n",
    "for i in Quotes_tags:\n",
    "    Quotes=i.text\n",
    "    Quotes_az.append(Quotes)\n",
    "\n",
    "Author_tags=driver.find_elements(By.XPATH,'//div[@class=\"author\"]')\n",
    "for i in Author_tags:\n",
    "    Author=i.text\n",
    "    Author_az.append(Author)\n",
    "\n",
    "Types_tags=driver.find_elements(By.XPATH,'//div[@class=\"tags\"]')\n",
    "for i in Author_tags:\n",
    "    Quotes=i.text\n",
    "    Types_of_Quotes.append(Quotes)"
   ]
  },
  {
   "cell_type": "code",
   "execution_count": 119,
   "id": "0f496166-6184-435e-b413-b476afa120e2",
   "metadata": {},
   "outputs": [
    {
     "name": "stdout",
     "output_type": "stream",
     "text": [
      "1000 1000\n"
     ]
    }
   ],
   "source": [
    "print(len(Author_az),len(Types_of_Quotes))"
   ]
  },
  {
   "cell_type": "code",
   "execution_count": 120,
   "id": "4a085811-ad01-4731-9022-d75c560ea6c4",
   "metadata": {},
   "outputs": [
    {
     "data": {
      "text/html": [
       "<div>\n",
       "<style scoped>\n",
       "    .dataframe tbody tr th:only-of-type {\n",
       "        vertical-align: middle;\n",
       "    }\n",
       "\n",
       "    .dataframe tbody tr th {\n",
       "        vertical-align: top;\n",
       "    }\n",
       "\n",
       "    .dataframe thead th {\n",
       "        text-align: right;\n",
       "    }\n",
       "</style>\n",
       "<table border=\"1\" class=\"dataframe\">\n",
       "  <thead>\n",
       "    <tr style=\"text-align: right;\">\n",
       "      <th></th>\n",
       "      <th>Author</th>\n",
       "      <th>Quotes</th>\n",
       "    </tr>\n",
       "  </thead>\n",
       "  <tbody>\n",
       "    <tr>\n",
       "      <th>0</th>\n",
       "      <td>Michael Porter</td>\n",
       "      <td>Michael Porter</td>\n",
       "    </tr>\n",
       "    <tr>\n",
       "      <th>1</th>\n",
       "      <td>Golda Meir</td>\n",
       "      <td>Golda Meir</td>\n",
       "    </tr>\n",
       "    <tr>\n",
       "      <th>2</th>\n",
       "      <td>Theodore Roosevelt</td>\n",
       "      <td>Theodore Roosevelt</td>\n",
       "    </tr>\n",
       "    <tr>\n",
       "      <th>3</th>\n",
       "      <td>Nelson Mandela</td>\n",
       "      <td>Nelson Mandela</td>\n",
       "    </tr>\n",
       "    <tr>\n",
       "      <th>4</th>\n",
       "      <td>Erma Bombeck</td>\n",
       "      <td>Erma Bombeck</td>\n",
       "    </tr>\n",
       "    <tr>\n",
       "      <th>...</th>\n",
       "      <td>...</td>\n",
       "      <td>...</td>\n",
       "    </tr>\n",
       "    <tr>\n",
       "      <th>995</th>\n",
       "      <td>Sydney J. Harris</td>\n",
       "      <td>Sydney J. Harris</td>\n",
       "    </tr>\n",
       "    <tr>\n",
       "      <th>996</th>\n",
       "      <td>Hunter S. Thompson</td>\n",
       "      <td>Hunter S. Thompson</td>\n",
       "    </tr>\n",
       "    <tr>\n",
       "      <th>997</th>\n",
       "      <td>Jim Rohn</td>\n",
       "      <td>Jim Rohn</td>\n",
       "    </tr>\n",
       "    <tr>\n",
       "      <th>998</th>\n",
       "      <td>Ram Dass</td>\n",
       "      <td>Ram Dass</td>\n",
       "    </tr>\n",
       "    <tr>\n",
       "      <th>999</th>\n",
       "      <td>Plutarch</td>\n",
       "      <td>Plutarch</td>\n",
       "    </tr>\n",
       "  </tbody>\n",
       "</table>\n",
       "<p>1000 rows × 2 columns</p>\n",
       "</div>"
      ],
      "text/plain": [
       "                 Author              Quotes\n",
       "0        Michael Porter      Michael Porter\n",
       "1            Golda Meir          Golda Meir\n",
       "2    Theodore Roosevelt  Theodore Roosevelt\n",
       "3        Nelson Mandela      Nelson Mandela\n",
       "4          Erma Bombeck        Erma Bombeck\n",
       "..                  ...                 ...\n",
       "995    Sydney J. Harris    Sydney J. Harris\n",
       "996  Hunter S. Thompson  Hunter S. Thompson\n",
       "997            Jim Rohn            Jim Rohn\n",
       "998            Ram Dass            Ram Dass\n",
       "999            Plutarch            Plutarch\n",
       "\n",
       "[1000 rows x 2 columns]"
      ]
     },
     "execution_count": 120,
     "metadata": {},
     "output_type": "execute_result"
    }
   ],
   "source": [
    "df=pd.DataFrame({'Author':Author_az,'Quotes':Types_of_Quotes})\n",
    "df"
   ]
  }
 ],
 "metadata": {
  "kernelspec": {
   "display_name": "Python 3 (ipykernel)",
   "language": "python",
   "name": "python3"
  },
  "language_info": {
   "codemirror_mode": {
    "name": "ipython",
    "version": 3
   },
   "file_extension": ".py",
   "mimetype": "text/x-python",
   "name": "python",
   "nbconvert_exporter": "python",
   "pygments_lexer": "ipython3",
   "version": "3.11.7"
  },
  "widgets": {
   "application/vnd.jupyter.widget-state+json": {
    "state": {},
    "version_major": 2,
    "version_minor": 0
   }
  }
 },
 "nbformat": 4,
 "nbformat_minor": 5
}
