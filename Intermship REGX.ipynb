{
 "cells": [
  {
   "cell_type": "markdown",
   "id": "5fb4cbe4-b61c-4883-a1aa-e6f3bca1dbae",
   "metadata": {},
   "source": [
    "Question 1- Write a Python program to replace all occurrences of a space, comma, or dot with a colon.\n",
    "Sample Text- 'Python Exercises, PHP exercises.'\n",
    "Expected Output: Python:Exercises::PHP:exercises:\n"
   ]
  },
  {
   "cell_type": "code",
   "execution_count": 10,
   "id": "6bfaf090-4d9f-47d4-904a-781d6acc5cc7",
   "metadata": {},
   "outputs": [
    {
     "name": "stdout",
     "output_type": "stream",
     "text": [
      "Python: Exercises::PHP exercises:\n"
     ]
    }
   ],
   "source": [
    "import re\n",
    "\n",
    "sub = (\"Python, Exercises,,PHP exercises,\")\n",
    "x = re.sub(r\"[,.]\",\":\",sub)\n",
    "print(x)"
   ]
  },
  {
   "cell_type": "markdown",
   "id": "37d2d717-7eee-440b-9d0a-24b2ce7029bb",
   "metadata": {},
   "source": [
    "Question 2-  Create a dataframe using the dictionary below and remove everything (commas (,), !, XXXX, ;, etc.) from the columns except words.\n",
    "Dictionary- {'SUMMARY' : ['hello, world!', 'XXXXX test', '123four, five:; six...']}\n",
    "Expected output-\n",
    "0      hello world\n",
    "1             test\n",
    "2    four five six\n"
   ]
  },
  {
   "cell_type": "code",
   "execution_count": 14,
   "id": "5ad83366-4142-42bd-9991-bce1eeb0e55c",
   "metadata": {},
   "outputs": [
    {
     "name": "stdout",
     "output_type": "stream",
     "text": [
      "         SUMMARY\n",
      "0    hello world\n",
      "1           test\n",
      "2  four five six\n"
     ]
    }
   ],
   "source": [
    "import pandas as pd\n",
    "import re\n",
    "\n",
    "data = {'SUMMARY': ['hello, world!', 'XXXXX test', '123four, five:; six...']}\n",
    "df = pd.DataFrame(data)\n",
    "\n",
    "def clean_text(text):\n",
    "    text = re.sub(r'XXXXX|\\d+', '', text)\n",
    "    text = re.sub(r'[^\\w\\s]', '', text)\n",
    "    text = text.strip()\n",
    "    return text\n",
    "df['SUMMARY'] = df['SUMMARY'].apply(clean_text)\n",
    "print(df)"
   ]
  },
  {
   "cell_type": "markdown",
   "id": "d2e10959-3c2b-427d-a58f-d0f8571864be",
   "metadata": {},
   "source": [
    "Question 3- Create a function in python to find all words that are at least 4 characters long in a string. The use of the re.compile() method is mandatory."
   ]
  },
  {
   "cell_type": "code",
   "execution_count": 16,
   "id": "9c5ace17-7095-4005-873e-85461da71745",
   "metadata": {},
   "outputs": [],
   "source": [
    "import re\n",
    "def find_word(text):\n",
    "    pattern = re.compile(r'\\b\\w{4,}\\b')\n",
    "    long_words = pattern.findall(text)\n",
    "    return long_words"
   ]
  },
  {
   "cell_type": "code",
   "execution_count": 17,
   "id": "c4034a43-6191-4f86-a750-71bd9250633b",
   "metadata": {},
   "outputs": [
    {
     "name": "stdout",
     "output_type": "stream",
     "text": [
      "['There', 'small', 'garden', 'house']\n"
     ]
    }
   ],
   "source": [
    "text = \"There is small garden in my house\"\n",
    "result = find_word(text)\n",
    "print(result)"
   ]
  },
  {
   "cell_type": "markdown",
   "id": "4163a590-e922-49ca-a12c-a7d46a814b32",
   "metadata": {},
   "source": [
    "Question 4- Create a function in python to find all three, four, and five character words in a string. The use of the re.compile() method is mandatory."
   ]
  },
  {
   "cell_type": "code",
   "execution_count": 18,
   "id": "3957e4c8-df24-437f-ba7e-564dc71af8e6",
   "metadata": {},
   "outputs": [],
   "source": [
    "import re\n",
    "def find_word(text):\n",
    "    pattern = re.compile(r'\\b\\w{3,5}\\b')\n",
    "    long_words = pattern.findall(text)\n",
    "    return long_words"
   ]
  },
  {
   "cell_type": "code",
   "execution_count": 19,
   "id": "27919712-7cbd-4195-9106-736a4659a391",
   "metadata": {},
   "outputs": [
    {
     "name": "stdout",
     "output_type": "stream",
     "text": [
      "['There', 'small', 'house']\n"
     ]
    }
   ],
   "source": [
    "text = \"There is small garden in my house\"\n",
    "result = find_word(text)\n",
    "print(result)"
   ]
  },
  {
   "cell_type": "markdown",
   "id": "67430e03-f5cb-4c19-87ad-c5917ab3d45d",
   "metadata": {},
   "source": [
    "Question 5- Create a function in Python to remove the parenthesis in a list of strings. The use of the re.compile() method is mandatory.\n",
    "Sample Text: [\"example (.com)\", \"hr@fliprobo (.com)\", \"github (.com)\", \"Hello (Data Science World)\", \"Data (Scientist)\"]\n",
    "Expected Output:\n",
    "example.com\n",
    "hr@fliprobo.com\n",
    "github.com\n",
    "Hello Data Science World\n"
   ]
  },
  {
   "cell_type": "code",
   "execution_count": 24,
   "id": "069a2d8a-6803-4514-82a1-17c47ea38522",
   "metadata": {},
   "outputs": [],
   "source": [
    "def remove_parentheses(text_list):\n",
    "    \n",
    "    pattern = re.compile(r'\\s*\\([^)]*\\)')\n",
    "    cleaned_list = [pattern.sub('', text).strip() for text in text_list]\n",
    "    return cleaned_list\n"
   ]
  },
  {
   "cell_type": "code",
   "execution_count": 25,
   "id": "55a37cfa-a6c6-40ec-909e-a5e3f422a1b7",
   "metadata": {},
   "outputs": [
    {
     "name": "stdout",
     "output_type": "stream",
     "text": [
      "examplehr@fliprobogithubHelloData\n"
     ]
    }
   ],
   "source": [
    "text_list = [\"example (.com)\", \"hr@fliprobo (.com)\", \"github (.com)\", \"Hello (Data Science World)\", \"Data (Scientist)\"]\n",
    "result = remove_parentheses(text_list)\n",
    "print(''.join(result))"
   ]
  },
  {
   "cell_type": "markdown",
   "id": "4ab5f22a-a15c-45af-9ac2-75905351c3a0",
   "metadata": {},
   "source": [
    "Question 6- Write a python program to remove the parenthesis area from the text stored in the text file using Regular Expression.\n",
    "Sample Text: [\"example (.com)\", \"hr@fliprobo (.com)\", \"github (.com)\", \"Hello (Data Science World)\", \"Data (Scientist)\"]\n",
    "Expected Output: [\"example\", \"hr@fliprobo\", \"github\", \"Hello\", \"Data\"]\n",
    "Note- Store given sample text in the text file and then to remove the parenthesis area from the text.\n"
   ]
  },
  {
   "cell_type": "markdown",
   "id": "9302965a-1af5-46b1-9464-5d067acc335b",
   "metadata": {},
   "source": [
    "Question 7- Write a regular expression in Python to split a string into uppercase letters.\n",
    "Sample text: “ImportanceOfRegularExpressionsInPython”\n",
    "Expected Output: [‘Importance’, ‘Of’, ‘Regular’, ‘Expression’, ‘In’, ‘Python’]\n"
   ]
  },
  {
   "cell_type": "code",
   "execution_count": 26,
   "id": "9a4149c8-aa70-4a73-9e33-6a06f5de69fd",
   "metadata": {},
   "outputs": [
    {
     "name": "stdout",
     "output_type": "stream",
     "text": [
      "['Importance', 'Of', 'Regular', 'Expressions', 'In', 'Python']\n"
     ]
    }
   ],
   "source": [
    "import re\n",
    "\n",
    "text = \"ImportanceOfRegularExpressionsInPython\"\n",
    "result = re.findall(r'[A-Z][a-z]*', text)\n",
    "\n",
    "print(result)"
   ]
  },
  {
   "cell_type": "markdown",
   "id": "c16ecdf7-9618-40ab-9b5e-8ed0fd4a0ec2",
   "metadata": {},
   "source": [
    "Question 8- Create a function in python to insert spaces between words starting with numbers.\n",
    "Sample Text: “RegularExpression1IsAn2ImportantTopic3InPython\"\n",
    "Expected Output: RegularExpression 1IsAn 2ImportantTopic 3InPython\n"
   ]
  },
  {
   "cell_type": "code",
   "execution_count": 32,
   "id": "f1c2e829-8e24-4e99-aebb-3c67012fdc9b",
   "metadata": {},
   "outputs": [],
   "source": [
    "import re\n",
    "\n",
    "def number_space(text):\n",
    "    result = re.sub(r'(\\d+)', r' \\1', text)\n",
    "    return result"
   ]
  },
  {
   "cell_type": "code",
   "execution_count": 33,
   "id": "3874c32e-0d6e-4972-8fff-64a862dff2aa",
   "metadata": {},
   "outputs": [
    {
     "name": "stdout",
     "output_type": "stream",
     "text": [
      "RegularExpression 1IsAn 2ImportantTopic 3InPython\n"
     ]
    }
   ],
   "source": [
    "text = \"RegularExpression1IsAn2ImportantTopic3InPython\"\n",
    "result = number_space(text)\n",
    "print(result)"
   ]
  },
  {
   "cell_type": "markdown",
   "id": "d5a1e772-9eb8-455f-b221-19461c430726",
   "metadata": {},
   "source": [
    "Question 9- Create a function in python to insert spaces between words starting with capital letters or with numbers.\n",
    "Sample Text: “RegularExpression1IsAn2ImportantTopic3InPython\"\n",
    "Expected Output:  RegularExpression 1 IsAn 2 ImportantTopic 3 InPython\n"
   ]
  },
  {
   "cell_type": "code",
   "execution_count": 40,
   "id": "0d3d7ae6-9e81-4e61-a8c0-43e25340c579",
   "metadata": {},
   "outputs": [],
   "source": [
    "import re\n",
    "\n",
    "def insert_space(text):\n",
    "   result = re.sub(r'(?<=[a-zA-Z])(?=[A-Z0-9])', ' ', text)\n",
    "   return result"
   ]
  },
  {
   "cell_type": "code",
   "execution_count": 41,
   "id": "9678dcd0-076e-4dc1-a727-d62582f36525",
   "metadata": {},
   "outputs": [
    {
     "name": "stdout",
     "output_type": "stream",
     "text": [
      "Regular Expression 1Is An 2Important Topic 3In Python\n"
     ]
    }
   ],
   "source": [
    "text = \"RegularExpression1IsAn2ImportantTopic3InPython\"\n",
    "result = insert_space(text)\n",
    "print(result)"
   ]
  },
  {
   "cell_type": "markdown",
   "id": "57349efe-aee6-4c30-b69a-752959e9faf1",
   "metadata": {},
   "source": [
    "Question 11- Write a Python program to match a string that contains only upper and lowercase letters, numbers, and underscores."
   ]
  },
  {
   "cell_type": "code",
   "execution_count": 44,
   "id": "9322e789-82c0-453e-ac55-8b5bb868009a",
   "metadata": {},
   "outputs": [],
   "source": [
    "import re\n",
    "\n",
    "def string(text):\n",
    "   pattern = re.compile(r'^[a-zA-Z0-9_]+$')\n",
    "   if pattern.match(text):\n",
    "        return True\n",
    "   else:\n",
    "        return False"
   ]
  },
  {
   "cell_type": "markdown",
   "id": "a6160c95-6c3d-4b41-8513-7ee15789bca8",
   "metadata": {},
   "source": [
    "Question 12- Write a Python program where a string will start with a specific number. "
   ]
  },
  {
   "cell_type": "code",
   "execution_count": 50,
   "id": "74bbb115-6a30-4222-baaf-215b48452651",
   "metadata": {},
   "outputs": [],
   "source": [
    "def starts_with_number(text, number):\n",
    "  \n",
    "    pattern = re.compile(r'^' + str(number))\n",
    "    if pattern.match(text):\n",
    "        return True\n",
    "    else:\n",
    "        return False\n"
   ]
  },
  {
   "cell_type": "markdown",
   "id": "cec27f5d-4547-4ccd-aca6-970cb0b84cb6",
   "metadata": {},
   "source": [
    "Question 13- Write a Python program to remove leading zeros from an IP address"
   ]
  },
  {
   "cell_type": "code",
   "execution_count": 51,
   "id": "1a5fdc8c-7fe2-45f7-a040-7dc332abc7f2",
   "metadata": {},
   "outputs": [],
   "source": [
    "def remove(Ip_address):\n",
    "    cleaned_ip = re.sub(r'\\b0+(\\d)', r'\\1', Ip_address)\n",
    "    return cleaned_ip"
   ]
  },
  {
   "cell_type": "markdown",
   "id": "5c11c935-b562-4a1c-8d28-58846ebc3fe3",
   "metadata": {},
   "source": [
    "Question 14- Write a regular expression in python to match a date string in the form of Month name followed by day number and year stored in a text file.\n",
    "Sample text :  ' On August 15th 1947 that India was declared independent from British colonialism, and the reins of control were handed over to the leaders of the Country’.\n",
    "Expected Output- August 15th 1947\n",
    "Note- Store given sample text in the text file and then extract the date string asked format.\n"
   ]
  },
  {
   "cell_type": "code",
   "execution_count": 58,
   "id": "47cfcdcb-154d-4a5f-a58a-f492a6b30124",
   "metadata": {},
   "outputs": [],
   "source": [
    "sample_text = \"\"\"On August 15th 1947 that India was declared independent from British colonialism, \n",
    "and the reins of control were handed over to the leaders of the Country.\"\"\"\n",
    "\n",
    "with open('sample_text.txt', 'w') as file:\n",
    "    file.write(sample_text)"
   ]
  },
  {
   "cell_type": "code",
   "execution_count": 55,
   "id": "595dcb6d-0669-4a9b-8fcf-c6ff2687b8e1",
   "metadata": {},
   "outputs": [],
   "source": [
    "def extract(file_path):\n",
    "    with open(file_path, 'r') as file:\n",
    "        text = file.read()\n",
    "    pattern = re.compile(r'\\b([A-Z][a-z]+ \\d{1,2}(?:st|nd|rd|th)? \\d{4})\\b')\n",
    "    match = pattern.search(text)\n",
    "    if match:\n",
    "        return match.group(0)\n",
    "    else:\n",
    "        return None"
   ]
  },
  {
   "cell_type": "code",
   "execution_count": 56,
   "id": "f9fd3d72-48b8-4bed-a4be-b0407a69d825",
   "metadata": {},
   "outputs": [
    {
     "name": "stdout",
     "output_type": "stream",
     "text": [
      "Extracted Date: August 15th 1947\n"
     ]
    }
   ],
   "source": [
    "file_path = 'sample_text.txt'\n",
    "date_string = extract(file_path)\n",
    "print(f\"Extracted Date: {date_string}\")"
   ]
  },
  {
   "cell_type": "markdown",
   "id": "8981ae10-511a-4fcd-a785-d8c087b1ae8c",
   "metadata": {},
   "source": [
    "Question 19- Write a Python program to convert a date of yyyy-mm-dd format to dd-mm-yyyy format."
   ]
  },
  {
   "cell_type": "code",
   "execution_count": 60,
   "id": "70ba62bb-1003-49db-85e1-eaff92231cd7",
   "metadata": {},
   "outputs": [],
   "source": [
    "from datetime import datetime\n",
    "\n",
    "def convert_date_format(date_str):\n",
    "    date_object = datetime.strptime(date_str, '%Y-%m-%d')\n",
    "    new_date_str = date_object.strftime('%d-%m-%Y')\n",
    "    return new_date_str"
   ]
  },
  {
   "cell_type": "code",
   "execution_count": 61,
   "id": "cd078aaa-d5bb-4b2c-b4fd-2c08da30ca01",
   "metadata": {},
   "outputs": [
    {
     "name": "stdout",
     "output_type": "stream",
     "text": [
      "23-08-2024\n"
     ]
    }
   ],
   "source": [
    "date_str = \"2024-08-23\"\n",
    "converted_date = convert_date_format(date_str)\n",
    "print(converted_date)"
   ]
  },
  {
   "cell_type": "markdown",
   "id": "5ebfee2b-0177-48a0-96cd-e7461c0ea1f9",
   "metadata": {},
   "source": [
    "Question 20- Create a function in python to find all decimal numbers with a precision of 1 or 2 in a string. The use of the re.compile() method is mandatory.\n",
    "Sample Text: \"01.12 0132.123 2.31875 145.8 3.01 27.25 0.25\"\n",
    "\n",
    "Expected Output: ['01.12', '145.8', '3.01', '27.25', '0.25']\n"
   ]
  },
  {
   "cell_type": "code",
   "execution_count": 63,
   "id": "c7752ec8-cae8-4dbb-94da-0d4a215c0cc5",
   "metadata": {},
   "outputs": [
    {
     "name": "stdout",
     "output_type": "stream",
     "text": [
      "['01.12', '145.8', '3.01', '27.25', '0.25']\n"
     ]
    }
   ],
   "source": [
    "def decimal_numbers(text):\n",
    "    number = re.compile(r'\\b\\d+\\.\\d{1,2}\\b')\n",
    "    matches = number.findall(text)\n",
    "    return matches\n",
    "sample_text = \"01.12 0132.123 2.31875 145.8 3.01 27.25 0.25\"\n",
    "result = decimal_numbers(sample_text)\n",
    "print(result)"
   ]
  },
  {
   "cell_type": "code",
   "execution_count": null,
   "id": "5b4ea02c-cedf-4be9-88ab-e2955f1013c9",
   "metadata": {},
   "outputs": [],
   "source": []
  }
 ],
 "metadata": {
  "kernelspec": {
   "display_name": "Python 3 (ipykernel)",
   "language": "python",
   "name": "python3"
  },
  "language_info": {
   "codemirror_mode": {
    "name": "ipython",
    "version": 3
   },
   "file_extension": ".py",
   "mimetype": "text/x-python",
   "name": "python",
   "nbconvert_exporter": "python",
   "pygments_lexer": "ipython3",
   "version": "3.11.7"
  },
  "widgets": {
   "application/vnd.jupyter.widget-state+json": {
    "state": {},
    "version_major": 2,
    "version_minor": 0
   }
  }
 },
 "nbformat": 4,
 "nbformat_minor": 5
}
